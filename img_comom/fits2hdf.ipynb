{
 "cells": [
  {
   "cell_type": "code",
   "execution_count": 58,
   "metadata": {},
   "outputs": [],
   "source": [
    "import numpy as np\n",
    "from astropy.io import fits\n",
    "from astropy.table import Table, Column, join\n",
    "from astropy.wcs import WCS"
   ]
  },
  {
   "cell_type": "code",
   "execution_count": 59,
   "metadata": {},
   "outputs": [],
   "source": [
    "def fitsextract(filename, stride=[1,1,1], keepref=True, keepnan=True):\n",
    "    hdu   = fits.open(filename)[0]\n",
    "    data  = hdu.data\n",
    "    bunit = hdu.header['BUNIT']\n",
    "    w     = WCS(hdu)\n",
    "    print('RA ref is',w.wcs.crval[0])\n",
    "    print('DEC ref is',w.wcs.crval[1])\n",
    "    ndim  = len(data.shape)\n",
    "    iscube = (ndim > 2 and data.shape[ndim-3] > 1)\n",
    "    if iscube:\n",
    "        print('This is a data cube')\n",
    "        data = np.squeeze(data)\n",
    "        if len(data.shape) > 3:\n",
    "            raise ('Data cannot be squeezed to three dimensions')\n",
    "        naxis = 3\n",
    "        ix,iy,iz = np.meshgrid(np.arange(data.shape[2]),np.arange(data.shape[1]),\n",
    "                             np.arange(data.shape[0]),indexing='ij')\n",
    "        tab = Table([np.ravel(ix),np.ravel(iy),np.ravel(iz)],\n",
    "                  names=('ix','iy','iz'),dtype=('i4','i4','i4'))\n",
    "        # Get the pixel coordinates as tuples\n",
    "        wcsin = (np.array([tab['ix'],tab['iy'],tab['iz']])).T\n",
    "    else:\n",
    "        print('This is an image')\n",
    "        data = np.squeeze(data)\n",
    "        naxis = 2\n",
    "        ix,iy = np.meshgrid(np.arange(data.shape[1]),np.arange(data.shape[0]),\n",
    "                            indexing='ij')\n",
    "        tab = Table([np.ravel(ix),np.ravel(iy)],\n",
    "                    names=('ix','iy'),dtype=('i4','i4'))\n",
    "        # Get the pixel coordinates as tuples\n",
    "        wcsin = (np.array([tab['ix'],tab['iy']])).T\n",
    "    wfix = w.sub(naxis)\n",
    "    wcsout = wfix.wcs_pix2world(wcsin,0)\n",
    "    col_ra = Column(wcsout.T[0]-w.wcs.crval[0], name='ra_off',  dtype='f4', unit='deg')\n",
    "    col_dc = Column(wcsout.T[1]-w.wcs.crval[1], name='dec_off', dtype='f4', unit='deg')\n",
    "    tab.add_columns([col_ra,col_dc])\n",
    "    if iscube:\n",
    "        col_vel = Column(wcsout.T[2]/1000., name='vel', dtype='f4', unit='km/s')\n",
    "        tab.add_column(col_vel)\n",
    "    # Use order = 'F' because the velocity axis is first\n",
    "    col_data = Column(np.ravel(data,order='F'), name='imgdata', dtype='f4', unit=bunit)\n",
    "    tab.add_column(col_data)\n",
    "    # Select the desired rows from the full table\n",
    "    idx = ['ix', 'iy', 'iz']\n",
    "    rem = [0, 0, 0]\n",
    "    select = [[],[],[]]\n",
    "    if keepref:\n",
    "        for i in range(naxis):\n",
    "            crpix = wfix.wcs.crpix[i]\n",
    "            if crpix < 1 or crpix > data.shape[naxis-i-1] or not crpix.is_integer():\n",
    "                print('Cannot use keepref on axis {}: crpix={}'.format(i+1,crpix))\n",
    "                continue\n",
    "            else:\n",
    "                print('Axis {}: crpix={}'.format(i+1,crpix))\n",
    "                rem[i] = int(crpix-1) % stride[i]\n",
    "        print('Remainder: ',rem)\n",
    "    for i in range(naxis):\n",
    "        select[i]=np.where(tab[idx[i]] % stride[i] == rem[i])[0]\n",
    "    xy = np.intersect1d(select[0], select[1])\n",
    "    if iscube:\n",
    "        xyz = np.intersect1d(xy, select[2])\n",
    "        if len(xyz) < len(tab):\n",
    "            newtab = tab[xyz]\n",
    "            tab = newtab\n",
    "    else:\n",
    "        if len(xy) < len(tab):\n",
    "            newtab = tab[xy]\n",
    "            tab = newtab\n",
    "    # Remove NaN rows if desired\n",
    "    if not keepnan:\n",
    "        newtab = tab[~np.isnan(tab['imgdata'])]\n",
    "        tab = newtab\n",
    "    return tab"
   ]
  },
  {
   "cell_type": "code",
   "execution_count": 61,
   "metadata": {},
   "outputs": [
    {
     "name": "stdout",
     "output_type": "stream",
     "text": [
      "RA ref is 180.71125\n",
      "DEC ref is 48.6361944444\n",
      "This is an image\n",
      "Axis 1: crpix=81.0\n",
      "Axis 2: crpix=81.0\n",
      "Remainder:  [2, 2, 0]\n",
      " ix  iy  iz   ra_off     dec_off     vel   imgdata\n",
      "               deg         deg      km / s    K   \n",
      "--- --- --- ---------- ------------ ------ -------\n",
      "  2   5  15 0.03277313 -0.020837985 3280.0     nan\n",
      "  2   5  18 0.03277313 -0.020837985 3340.0     nan\n",
      "  2   5  21 0.03277313 -0.020837985 3400.0     nan\n",
      "  2   5  24 0.03277313 -0.020837985 3460.0     nan\n",
      "  2   5  27 0.03277313 -0.020837985 3520.0     nan\n",
      "  2   5  30 0.03277313 -0.020837985 3580.0     nan\n",
      "  2   5  33 0.03277313 -0.020837985 3640.0     nan\n",
      "  2   5  36 0.03277313 -0.020837985 3700.0     nan\n",
      "  2   5  39 0.03277313 -0.020837985 3760.0     nan\n",
      "  2   5  42 0.03277313 -0.020837985 3820.0     nan\n",
      "... ... ...        ...          ...    ...     ...\n",
      "  2   8  30 0.03277367 -0.020004652 3580.0     nan\n",
      "  2   8  33 0.03277367 -0.020004652 3640.0     nan\n",
      "  2   8  36 0.03277367 -0.020004652 3700.0     nan\n",
      "  2   8  39 0.03277367 -0.020004652 3760.0     nan\n",
      "  2   8  42 0.03277367 -0.020004652 3820.0     nan\n",
      "  2  11   0 0.03277421 -0.019171318 2980.0     nan\n",
      "  2  11   3 0.03277421 -0.019171318 3040.0     nan\n",
      "  2  11   6 0.03277421 -0.019171318 3100.0     nan\n",
      "  2  11   9 0.03277421 -0.019171318 3160.0     nan\n",
      "  2  11  12 0.03277421 -0.019171318 3220.0     nan\n",
      "Length = 30 rows\n",
      "RA ref is 180.71125\n",
      "DEC ref is 48.6361944444\n",
      "This is an image\n",
      "Axis 1: crpix=81.0\n",
      "Axis 2: crpix=81.0\n",
      "Remainder:  [2, 2, 0]\n"
     ]
    },
    {
     "name": "stderr",
     "output_type": "stream",
     "text": [
      "WARNING: VerifyWarning: Invalid 'BLANK' keyword in header.  The 'BLANK' keyword is only applicable to integer data, and will be ignored in this HDU. [astropy.io.fits.hdu.image]\n"
     ]
    },
    {
     "ename": "Exception",
     "evalue": "h5py is required to read and write HDF5 files",
     "output_type": "error",
     "traceback": [
      "\u001b[0;31m---------------------------------------------------------------------------\u001b[0m",
      "\u001b[0;31mModuleNotFoundError\u001b[0m                       Traceback (most recent call last)",
      "\u001b[0;32m/opt/local/Library/Frameworks/Python.framework/Versions/3.6/lib/python3.6/site-packages/astropy/io/misc/hdf5.py\u001b[0m in \u001b[0;36mwrite_table_hdf5\u001b[0;34m(table, output, path, compression, append, overwrite, serialize_meta, compatibility_mode)\u001b[0m\n\u001b[1;32m    256\u001b[0m     \u001b[0;32mtry\u001b[0m\u001b[0;34m:\u001b[0m\u001b[0;34m\u001b[0m\u001b[0;34m\u001b[0m\u001b[0m\n\u001b[0;32m--> 257\u001b[0;31m         \u001b[0;32mimport\u001b[0m \u001b[0mh5py\u001b[0m\u001b[0;34m\u001b[0m\u001b[0;34m\u001b[0m\u001b[0m\n\u001b[0m\u001b[1;32m    258\u001b[0m     \u001b[0;32mexcept\u001b[0m \u001b[0mImportError\u001b[0m\u001b[0;34m:\u001b[0m\u001b[0;34m\u001b[0m\u001b[0;34m\u001b[0m\u001b[0m\n",
      "\u001b[0;31mModuleNotFoundError\u001b[0m: No module named 'h5py'",
      "\nDuring handling of the above exception, another exception occurred:\n",
      "\u001b[0;31mException\u001b[0m                                 Traceback (most recent call last)",
      "\u001b[0;32m<ipython-input-61-4cab0a139c80>\u001b[0m in \u001b[0;36m<module>\u001b[0;34m()\u001b[0m\n\u001b[1;32m      6\u001b[0m \u001b[0mjoin1\u001b[0m \u001b[0;34m=\u001b[0m \u001b[0mjoin\u001b[0m\u001b[0;34m(\u001b[0m\u001b[0mtab0\u001b[0m\u001b[0;34m,\u001b[0m \u001b[0metab0\u001b[0m\u001b[0;34m)\u001b[0m\u001b[0;34m\u001b[0m\u001b[0;34m\u001b[0m\u001b[0m\n\u001b[1;32m      7\u001b[0m \u001b[0;31m#join1.show_in_notebook()\u001b[0m\u001b[0;34m\u001b[0m\u001b[0;34m\u001b[0m\u001b[0;34m\u001b[0m\u001b[0m\n\u001b[0;32m----> 8\u001b[0;31m \u001b[0mjoin1\u001b[0m\u001b[0;34m.\u001b[0m\u001b[0mwrite\u001b[0m\u001b[0;34m(\u001b[0m\u001b[0;34m'NGC4047.co.smo7_dil.hdf5'\u001b[0m\u001b[0;34m,\u001b[0m \u001b[0mpath\u001b[0m\u001b[0;34m=\u001b[0m\u001b[0;34m'data'\u001b[0m\u001b[0;34m,\u001b[0m \u001b[0moverwrite\u001b[0m\u001b[0;34m=\u001b[0m\u001b[0;32mTrue\u001b[0m\u001b[0;34m,\u001b[0m \u001b[0mserialize_meta\u001b[0m\u001b[0;34m=\u001b[0m\u001b[0;32mTrue\u001b[0m\u001b[0;34m,\u001b[0m \u001b[0mcompression\u001b[0m\u001b[0;34m=\u001b[0m\u001b[0;32mTrue\u001b[0m\u001b[0;34m)\u001b[0m\u001b[0;34m\u001b[0m\u001b[0;34m\u001b[0m\u001b[0m\n\u001b[0m",
      "\u001b[0;32m/opt/local/Library/Frameworks/Python.framework/Versions/3.6/lib/python3.6/site-packages/astropy/table/table.py\u001b[0m in \u001b[0;36mwrite\u001b[0;34m(self, *args, **kwargs)\u001b[0m\n\u001b[1;32m   2590\u001b[0m         \u001b[0mserialize_method\u001b[0m \u001b[0;34m=\u001b[0m \u001b[0mkwargs\u001b[0m\u001b[0;34m.\u001b[0m\u001b[0mpop\u001b[0m\u001b[0;34m(\u001b[0m\u001b[0;34m'serialize_method'\u001b[0m\u001b[0;34m,\u001b[0m \u001b[0;32mNone\u001b[0m\u001b[0;34m)\u001b[0m\u001b[0;34m\u001b[0m\u001b[0;34m\u001b[0m\u001b[0m\n\u001b[1;32m   2591\u001b[0m         \u001b[0;32mwith\u001b[0m \u001b[0mserialize_method_as\u001b[0m\u001b[0;34m(\u001b[0m\u001b[0mself\u001b[0m\u001b[0;34m,\u001b[0m \u001b[0mserialize_method\u001b[0m\u001b[0;34m)\u001b[0m\u001b[0;34m:\u001b[0m\u001b[0;34m\u001b[0m\u001b[0;34m\u001b[0m\u001b[0m\n\u001b[0;32m-> 2592\u001b[0;31m             \u001b[0mio_registry\u001b[0m\u001b[0;34m.\u001b[0m\u001b[0mwrite\u001b[0m\u001b[0;34m(\u001b[0m\u001b[0mself\u001b[0m\u001b[0;34m,\u001b[0m \u001b[0;34m*\u001b[0m\u001b[0margs\u001b[0m\u001b[0;34m,\u001b[0m \u001b[0;34m**\u001b[0m\u001b[0mkwargs\u001b[0m\u001b[0;34m)\u001b[0m\u001b[0;34m\u001b[0m\u001b[0;34m\u001b[0m\u001b[0m\n\u001b[0m\u001b[1;32m   2593\u001b[0m \u001b[0;34m\u001b[0m\u001b[0m\n\u001b[1;32m   2594\u001b[0m     \u001b[0;32mdef\u001b[0m \u001b[0mcopy\u001b[0m\u001b[0;34m(\u001b[0m\u001b[0mself\u001b[0m\u001b[0;34m,\u001b[0m \u001b[0mcopy_data\u001b[0m\u001b[0;34m=\u001b[0m\u001b[0;32mTrue\u001b[0m\u001b[0;34m)\u001b[0m\u001b[0;34m:\u001b[0m\u001b[0;34m\u001b[0m\u001b[0;34m\u001b[0m\u001b[0m\n",
      "\u001b[0;32m/opt/local/Library/Frameworks/Python.framework/Versions/3.6/lib/python3.6/site-packages/astropy/io/registry.py\u001b[0m in \u001b[0;36mwrite\u001b[0;34m(data, format, *args, **kwargs)\u001b[0m\n\u001b[1;32m    558\u001b[0m \u001b[0;34m\u001b[0m\u001b[0m\n\u001b[1;32m    559\u001b[0m     \u001b[0mwriter\u001b[0m \u001b[0;34m=\u001b[0m \u001b[0mget_writer\u001b[0m\u001b[0;34m(\u001b[0m\u001b[0mformat\u001b[0m\u001b[0;34m,\u001b[0m \u001b[0mdata\u001b[0m\u001b[0;34m.\u001b[0m\u001b[0m__class__\u001b[0m\u001b[0;34m)\u001b[0m\u001b[0;34m\u001b[0m\u001b[0;34m\u001b[0m\u001b[0m\n\u001b[0;32m--> 560\u001b[0;31m     \u001b[0mwriter\u001b[0m\u001b[0;34m(\u001b[0m\u001b[0mdata\u001b[0m\u001b[0;34m,\u001b[0m \u001b[0;34m*\u001b[0m\u001b[0margs\u001b[0m\u001b[0;34m,\u001b[0m \u001b[0;34m**\u001b[0m\u001b[0mkwargs\u001b[0m\u001b[0;34m)\u001b[0m\u001b[0;34m\u001b[0m\u001b[0;34m\u001b[0m\u001b[0m\n\u001b[0m\u001b[1;32m    561\u001b[0m \u001b[0;34m\u001b[0m\u001b[0m\n\u001b[1;32m    562\u001b[0m \u001b[0;34m\u001b[0m\u001b[0m\n",
      "\u001b[0;32m/opt/local/Library/Frameworks/Python.framework/Versions/3.6/lib/python3.6/site-packages/astropy/io/misc/hdf5.py\u001b[0m in \u001b[0;36mwrite_table_hdf5\u001b[0;34m(table, output, path, compression, append, overwrite, serialize_meta, compatibility_mode)\u001b[0m\n\u001b[1;32m    257\u001b[0m         \u001b[0;32mimport\u001b[0m \u001b[0mh5py\u001b[0m\u001b[0;34m\u001b[0m\u001b[0;34m\u001b[0m\u001b[0m\n\u001b[1;32m    258\u001b[0m     \u001b[0;32mexcept\u001b[0m \u001b[0mImportError\u001b[0m\u001b[0;34m:\u001b[0m\u001b[0;34m\u001b[0m\u001b[0;34m\u001b[0m\u001b[0m\n\u001b[0;32m--> 259\u001b[0;31m         \u001b[0;32mraise\u001b[0m \u001b[0mException\u001b[0m\u001b[0;34m(\u001b[0m\u001b[0;34m\"h5py is required to read and write HDF5 files\"\u001b[0m\u001b[0;34m)\u001b[0m\u001b[0;34m\u001b[0m\u001b[0;34m\u001b[0m\u001b[0m\n\u001b[0m\u001b[1;32m    260\u001b[0m \u001b[0;34m\u001b[0m\u001b[0m\n\u001b[1;32m    261\u001b[0m     \u001b[0;32mif\u001b[0m \u001b[0mpath\u001b[0m \u001b[0;32mis\u001b[0m \u001b[0;32mNone\u001b[0m\u001b[0;34m:\u001b[0m\u001b[0;34m\u001b[0m\u001b[0;34m\u001b[0m\u001b[0m\n",
      "\u001b[0;31mException\u001b[0m: h5py is required to read and write HDF5 files"
     ]
    }
   ],
   "source": [
    "tab0 = fitsextract('fitsdata/NGC4047.co.smo7_dil.mom0.fits.gz', keepnan=True, stride=[3,3,1])\n",
    "tab0['imgdata'].name = 'mom0'\n",
    "print(tab[20:50])\n",
    "etab0 = fitsextract('fitsdata/NGC4047.co.smo7_dil.emom0.fits.gz', keepnan=True, stride=[3,3,1])\n",
    "etab0['imgdata'].name = 'emom0'\n",
    "join1 = join(tab0, etab0)\n",
    "#join1.show_in_notebook()\n",
    "join1.write('NGC4047.co.smo7_dil.hdf5', path='data', overwrite=True, serialize_meta=True, compression=True)"
   ]
  },
  {
   "cell_type": "code",
   "execution_count": 62,
   "metadata": {},
   "outputs": [
    {
     "name": "stderr",
     "output_type": "stream",
     "text": [
      "WARNING: FITSFixedWarning: 'spcfix' made the change 'Changed CTYPE3 from 'VELO-LSR' to 'VRAD' (VELREF=257)'. [astropy.wcs.wcs]\n"
     ]
    },
    {
     "name": "stdout",
     "output_type": "stream",
     "text": [
      "RA ref is 180.71125\n",
      "DEC ref is 48.6361944444\n",
      "This is a data cube\n",
      "Axis 1: crpix=81.0\n",
      "Axis 2: crpix=81.0\n",
      "Axis 3: crpix=1.0\n",
      "Remainder:  [2, 2, 0]\n",
      " ix  iy  iz   ra_off     dec_off     vel   imgdata\n",
      "               deg         deg      km / s    K   \n",
      "--- --- --- ---------- ------------ ------ -------\n",
      "  2   5  15 0.03277313 -0.020837985 3280.0     nan\n",
      "  2   5  18 0.03277313 -0.020837985 3340.0     nan\n",
      "  2   5  21 0.03277313 -0.020837985 3400.0     nan\n",
      "  2   5  24 0.03277313 -0.020837985 3460.0     nan\n",
      "  2   5  27 0.03277313 -0.020837985 3520.0     nan\n",
      "  2   5  30 0.03277313 -0.020837985 3580.0     nan\n",
      "  2   5  33 0.03277313 -0.020837985 3640.0     nan\n",
      "  2   5  36 0.03277313 -0.020837985 3700.0     nan\n",
      "  2   5  39 0.03277313 -0.020837985 3760.0     nan\n",
      "  2   5  42 0.03277313 -0.020837985 3820.0     nan\n",
      "... ... ...        ...          ...    ...     ...\n",
      "  2   8  30 0.03277367 -0.020004652 3580.0     nan\n",
      "  2   8  33 0.03277367 -0.020004652 3640.0     nan\n",
      "  2   8  36 0.03277367 -0.020004652 3700.0     nan\n",
      "  2   8  39 0.03277367 -0.020004652 3760.0     nan\n",
      "  2   8  42 0.03277367 -0.020004652 3820.0     nan\n",
      "  2  11   0 0.03277421 -0.019171318 2980.0     nan\n",
      "  2  11   3 0.03277421 -0.019171318 3040.0     nan\n",
      "  2  11   6 0.03277421 -0.019171318 3100.0     nan\n",
      "  2  11   9 0.03277421 -0.019171318 3160.0     nan\n",
      "  2  11  12 0.03277421 -0.019171318 3220.0     nan\n",
      "Length = 30 rows\n"
     ]
    }
   ],
   "source": [
    "tab = fitsextract('../img_cocube/fitsdata/NGC4047.co.smo7msk.K.fits.gz', keepnan=True, stride=[3,3,3])\n",
    "print(tab[20:50])\n",
    "#tab.write('test.hdf5', path='data', overwrite=True, serialize_meta=True, compression=True)"
   ]
  }
 ],
 "metadata": {
  "kernelspec": {
   "display_name": "Python 3",
   "language": "python",
   "name": "python3"
  },
  "language_info": {
   "codemirror_mode": {
    "name": "ipython",
    "version": 3
   },
   "file_extension": ".py",
   "mimetype": "text/x-python",
   "name": "python",
   "nbconvert_exporter": "python",
   "pygments_lexer": "ipython3",
   "version": "3.6.8"
  }
 },
 "nbformat": 4,
 "nbformat_minor": 2
}
