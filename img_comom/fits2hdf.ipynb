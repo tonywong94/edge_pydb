{
 "cells": [
  {
   "cell_type": "code",
   "execution_count": 2,
   "metadata": {},
   "outputs": [],
   "source": [
    "import numpy as np\n",
    "from astropy.io import fits\n",
    "from astropy.table import Table, Column\n",
    "from astropy.wcs import WCS"
   ]
  },
  {
   "cell_type": "code",
   "execution_count": 3,
   "metadata": {},
   "outputs": [
    {
     "name": "stderr",
     "output_type": "stream",
     "text": [
      "WARNING: FITSFixedWarning: 'spcfix' made the change 'Changed CTYPE3 from 'VELO-LSR' to 'VRAD' (VELREF=257)'. [astropy.wcs.wcs]\n"
     ]
    },
    {
     "name": "stdout",
     "output_type": "stream",
     "text": [
      "This is a data cube\n",
      " ix  iy  iz   ra_off   dec_off    vel   imgdata\n",
      "               deg       deg     km / s    K   \n",
      "--- --- --- --------- ---------- ------ -------\n",
      "  0   0  20 0.0336125 -0.0222271 3380.0     nan\n",
      "  0   0  21 0.0336125 -0.0222271 3400.0     nan\n",
      "  0   0  22 0.0336125 -0.0222271 3420.0     nan\n",
      "  0   0  23 0.0336125 -0.0222271 3440.0     nan\n",
      "  0   0  24 0.0336125 -0.0222271 3460.0     nan\n",
      "  0   0  25 0.0336125 -0.0222271 3480.0     nan\n",
      "  0   0  26 0.0336125 -0.0222271 3500.0     nan\n",
      "  0   0  27 0.0336125 -0.0222271 3520.0     nan\n",
      "  0   0  28 0.0336125 -0.0222271 3540.0     nan\n",
      "  0   0  29 0.0336125 -0.0222271 3560.0     nan\n",
      "... ... ...       ...        ...    ...     ...\n",
      "  0   0  40 0.0336125 -0.0222271 3780.0     nan\n",
      "  0   0  41 0.0336125 -0.0222271 3800.0     nan\n",
      "  0   0  42 0.0336125 -0.0222271 3820.0     nan\n",
      "  0   0  43 0.0336125 -0.0222271 3840.0     nan\n",
      "  0   1   0 0.0336127 -0.0219493 2980.0     nan\n",
      "  0   1   1 0.0336127 -0.0219493 3000.0     nan\n",
      "  0   1   2 0.0336127 -0.0219493 3020.0     nan\n",
      "  0   1   3 0.0336127 -0.0219493 3040.0     nan\n",
      "  0   1   4 0.0336127 -0.0219493 3060.0     nan\n",
      "  0   1   5 0.0336127 -0.0219493 3080.0     nan\n",
      "Length = 30 rows\n",
      "RA ref is 180.71125\n",
      "DEC ref is 48.6361944444\n"
     ]
    }
   ],
   "source": [
    "#dir = 'fitsdata/'\n",
    "#file = 'NGC4047.co.smo7_dil.mom0.fits.gz'\n",
    "dir = '../img_cocube/fitsdata/'\n",
    "file = 'NGC4047.co.smo7msk.K.fits.gz'\n",
    "hdu=fits.open(dir+file)[0]\n",
    "data=hdu.data\n",
    "bunit = hdu.header['BUNIT']\n",
    "w=WCS(hdu)\n",
    "data.shape\n",
    "ndim=len(data.shape)\n",
    "iscube = (ndim > 2 and data.shape[ndim-3] > 1)\n",
    "if iscube:\n",
    "    print('This is a data cube')\n",
    "    data=np.squeeze(data)\n",
    "    ix,iy,iz=np.meshgrid(np.arange(data.shape[2]),np.arange(data.shape[1]),\n",
    "                         np.arange(data.shape[0]),indexing='ij')\n",
    "    tab=Table([np.ravel(ix),np.ravel(iy),np.ravel(iz)],\n",
    "              names=('ix','iy','iz'),dtype=('i4','i4','i4'))\n",
    "    if ndim == 3:\n",
    "        wcsin = (np.array([tab['ix'],tab['iy'],tab['iz']])).T\n",
    "    if ndim == 4:\n",
    "        wcsin = (np.array([tab['ix'],tab['iy'],tab['iz'],0*tab['ix']])).T\n",
    "else:\n",
    "    print('This is an image')\n",
    "    data=np.squeeze(data)\n",
    "    ix,iy=np.meshgrid(np.arange(data.shape[1]),np.arange(data.shape[0]))\n",
    "    tab=Table([np.ravel(ix),np.ravel(iy)],names=('ix','iy'),dtype=('i4','i4'))\n",
    "    if ndim == 2:\n",
    "        wcsin = (np.array([tab['ix'],tab['iy']])).T\n",
    "        refin = []\n",
    "    if ndim == 3:\n",
    "        wcsin = (np.array([tab['ix'],tab['iy'],0*tab['ix']])).T\n",
    "    if ndim == 4:\n",
    "        wcsin = (np.array([tab['ix'],tab['iy'],0*tab['ix'],0*tab['ix']])).T\n",
    "wcsout = w.wcs_pix2world(wcsin,0)\n",
    "col_ra = Column(wcsout.T[0]-w.wcs.crval[0], name='ra_off', dtype='f4', unit='deg')\n",
    "col_dec = Column(wcsout.T[1]-w.wcs.crval[1], name='dec_off', dtype='f4', unit='deg')\n",
    "tab.add_columns([col_ra,col_dec])\n",
    "if iscube:\n",
    "    col_vel = Column(wcsout.T[2]/1000., name='vel', dtype='f4', unit='km/s')\n",
    "    tab.add_column(col_vel)\n",
    "# Use order = 'F' because the velocity axis is first\n",
    "col_data = Column(np.ravel(data,order='F'), name='imgdata', dtype='f4', unit=bunit)\n",
    "tab.add_column(col_data)\n",
    "print(tab[20:50])\n",
    "print('RA ref is',w.wcs.crval[0])\n",
    "print('DEC ref is',w.wcs.crval[1])\n",
    "tab.write('test.hdf5', path='data', overwrite=True, serialize_meta=True, compression=True)\n"
   ]
  },
  {
   "cell_type": "code",
   "execution_count": null,
   "metadata": {},
   "outputs": [],
   "source": [
    "def fits2hdf(stride=[2,2,1],keepref=True,keepnan=True):\n",
    "    hdu = fits.open(filename)[0]\n",
    "    data=hdu.data\n",
    "    ndim=len(data.shape)\n",
    "    if ndim > 2 and data.shape[ndim-3] > 1:\n",
    "        if ndim > 3:\n",
    "            data=np.squeeze(data)\n",
    "            if len(data.shape) > 3:\n",
    "                raise ('Data cannot be squeezed to three dimensions')"
   ]
  }
 ],
 "metadata": {
  "kernelspec": {
   "display_name": "Python 3",
   "language": "python",
   "name": "python3"
  },
  "language_info": {
   "codemirror_mode": {
    "name": "ipython",
    "version": 3
   },
   "file_extension": ".py",
   "mimetype": "text/x-python",
   "name": "python",
   "nbconvert_exporter": "python",
   "pygments_lexer": "ipython3",
   "version": "3.6.5"
  }
 },
 "nbformat": 4,
 "nbformat_minor": 2
}
