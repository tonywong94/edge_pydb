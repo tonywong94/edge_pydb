{
 "cells": [
  {
   "cell_type": "code",
   "execution_count": 29,
   "metadata": {},
   "outputs": [],
   "source": [
    "from astropy.table import Table\n",
    "import sys\n",
    "sys.path.append('/home/jovyan/site-packages')\n",
    "from astroquery.ned import Ned\n",
    "from astropy.coordinates import SkyCoord\n",
    "from astropy import units as u\n",
    "import numpy as np"
   ]
  },
  {
   "cell_type": "code",
   "execution_count": 30,
   "metadata": {},
   "outputs": [],
   "source": [
    "#Uncertainty_dic={'IC0480':2.50, 'IC1683':1.25,'NGC0523':1.25,'NGC4149':0.5,'NGC6361':0.5,\n",
    "#             'UGC09665':0.5,'UGC10123':0.5,'IC2247':0.5,'IC2487':0.5,'NGC0447':1.25,'NGC2347':1.25,'NGC5657':0.5,'NGC6394':0.5,'UGC05598':0.5}"
   ]
  },
  {
   "cell_type": "code",
   "execution_count": 31,
   "metadata": {},
   "outputs": [],
   "source": [
    "with open('gallist_fitctr.txt') as f:\n",
    "    namelist_fitctr = f.read().splitlines()\n",
    "gallist_fitctr = [gal for gal in namelist_fitctr if not gal.startswith(\"#\")]"
   ]
  },
  {
   "cell_type": "code",
   "execution_count": 32,
   "metadata": {},
   "outputs": [],
   "source": [
    "galname=[]\n",
    "ractr_ned=[]\n",
    "dcctr_ned=[]\n",
    "ractr_fit=[]\n",
    "dcctr_fit=[]\n",
    "Unc_SemiMajor=[]\n",
    "Unc_SemiMinor=[]\n",
    "offset = []\n",
    "for gal in namelist_fitctr:\n",
    "    galname.append(gal)\n",
    "    gal_table = Table.read('fitctr/'+gal+'_fitctr.txt',format='ascii.csv')\n",
    "    NED_table = Ned.get_table(gal, table='positions')\n",
    "    ractr_fit.append(gal_table['ractr_fit'][0])\n",
    "    dcctr_fit.append(gal_table['dcctr_fit'][0])\n",
    "    fitCoord = SkyCoord(gal_table['ractr_fit'][0]*u.deg, gal_table['dcctr_fit'][0]*u.deg, frame = 'icrs')\n",
    "    ractr_ned.append(gal_table['ractr_ned'][0])\n",
    "    dcctr_ned.append(gal_table['dcctr_ned'][0])\n",
    "    nedCoord = SkyCoord(gal_table['ractr_ned'][0]*u.deg, gal_table['dcctr_ned'][0]*u.deg, frame = 'icrs')\n",
    "    sep = round(fitCoord.separation(nedCoord).arcsec,2)\n",
    "    offset.append(sep)\n",
    "    Unc_SemiMajor.append(NED_table['Uncertainty Ellipse Semi-Major Axis'][0])\n",
    "    Unc_SemiMinor.append(NED_table['Uncertainty Ellipse Semi-Minor Axis'][0])\n",
    "t=Table()\n",
    "t['galname']=galname\n",
    "t['ractr_ned']=ractr_ned\n",
    "t['dcctr_ned']=dcctr_ned\n",
    "t['ractr_fit']=ractr_fit\n",
    "t['dcctr_fit']=dcctr_fit\n",
    "t['offset']=offset\n",
    "t['Unc_SemiMajor']=Unc_SemiMajor\n",
    "t['Unc_SemiMinor']=Unc_SemiMajor\n",
    "\n",
    "t['ractr_ned'].unit = 'deg'\n",
    "t['dcctr_ned'].unit = 'deg'\n",
    "t['ractr_fit'].unit = 'deg'\n",
    "t['dcctr_fit'].unit = 'deg'\n",
    "t['offset'].unit = 'arcsec'\n",
    "t['Unc_SemiMajor'].unit = 'arcsec'\n",
    "t['Unc_SemiMinor'].unit = 'arcsec'\n",
    "\n",
    "\n",
    "t.write('mergeTable/ned_offset_compare.txt',delimiter=',',overwrite=True,format='ascii.ecsv')"
   ]
  },
  {
   "cell_type": "code",
   "execution_count": 33,
   "metadata": {},
   "outputs": [
    {
     "name": "stdout",
     "output_type": "stream",
     "text": [
      "1.67357142857\n"
     ]
    },
    {
     "data": {
      "text/html": [
       "<i>Table length=14</i>\n",
       "<table id=\"table140524372921256\" class=\"table-striped table-bordered table-condensed\">\n",
       "<thead><tr><th>galname</th><th>ractr_ned</th><th>dcctr_ned</th><th>ractr_fit</th><th>dcctr_fit</th><th>offset</th><th>Unc_SemiMajor</th><th>Unc_SemiMinor</th></tr></thead>\n",
       "<thead><tr><th></th><th>deg</th><th>deg</th><th>deg</th><th>deg</th><th>arcsec</th><th>arcsec</th><th>arcsec</th></tr></thead>\n",
       "<thead><tr><th>str8</th><th>float64</th><th>float64</th><th>float64</th><th>float64</th><th>float64</th><th>float64</th><th>float64</th></tr></thead>\n",
       "<tr><td>IC0480</td><td>118.84662</td><td>26.74333</td><td>118.84683632</td><td>26.7425804577</td><td>2.79</td><td>2.5</td><td>2.5</td></tr>\n",
       "<tr><td>IC1683</td><td>20.6625</td><td>34.43694</td><td>20.6621180314</td><td>34.4371200283</td><td>1.31</td><td>1.25</td><td>1.25</td></tr>\n",
       "<tr><td>NGC0523</td><td>21.33637</td><td>34.02494</td><td>21.3361926898</td><td>34.0252003792</td><td>1.08</td><td>0.5</td><td>0.5</td></tr>\n",
       "<tr><td>NGC4149</td><td>182.63683</td><td>58.30414</td><td>182.637057239</td><td>58.3037723987</td><td>1.39</td><td>0.5</td><td>0.5</td></tr>\n",
       "<tr><td>NGC6361</td><td>259.67121</td><td>60.60817</td><td>259.671201397</td><td>60.6078809459</td><td>1.04</td><td>0.5</td><td>0.5</td></tr>\n",
       "<tr><td>UGC09665</td><td>225.38525</td><td>48.31975</td><td>225.3855804</td><td>48.3198377585</td><td>0.85</td><td>0.5</td><td>0.5</td></tr>\n",
       "<tr><td>UGC10123</td><td>239.76233</td><td>51.30467</td><td>239.762845232</td><td>51.3046210884</td><td>1.17</td><td>0.5</td><td>0.5</td></tr>\n",
       "<tr><td>IC2247</td><td>123.99625</td><td>23.19961</td><td>123.995993851</td><td>23.1994673509</td><td>0.99</td><td>0.5</td><td>0.5</td></tr>\n",
       "<tr><td>IC2487</td><td>142.53821</td><td>20.09086</td><td>142.538445372</td><td>20.0906183569</td><td>1.18</td><td>0.5</td><td>0.5</td></tr>\n",
       "<tr><td>NGC0447</td><td>18.90679</td><td>33.06772</td><td>18.9069415065</td><td>33.0678306987</td><td>0.61</td><td>1.25</td><td>1.25</td></tr>\n",
       "<tr><td>NGC2347</td><td>109.01537</td><td>64.70892</td><td>109.017375457</td><td>64.7109797287</td><td>8.03</td><td>1.25</td><td>1.25</td></tr>\n",
       "<tr><td>NGC5657</td><td>217.68167</td><td>29.18083</td><td>217.681989832</td><td>29.1808625466</td><td>1.01</td><td>0.5</td><td>0.5</td></tr>\n",
       "<tr><td>NGC6394</td><td>262.58925</td><td>59.63989</td><td>262.589157063</td><td>59.6402002099</td><td>1.13</td><td>0.5</td><td>0.5</td></tr>\n",
       "<tr><td>UGC05598</td><td>155.55837</td><td>20.58942</td><td>155.558487118</td><td>20.5892098112</td><td>0.85</td><td>0.5</td><td>0.5</td></tr>\n",
       "</table>"
      ],
      "text/plain": [
       "<Table length=14>\n",
       "galname  ractr_ned dcctr_ned ...  offset Unc_SemiMajor Unc_SemiMinor\n",
       "            deg       deg    ...  arcsec     arcsec        arcsec   \n",
       "  str8    float64   float64  ... float64    float64       float64   \n",
       "-------- --------- --------- ... ------- ------------- -------------\n",
       "  IC0480 118.84662  26.74333 ...    2.79           2.5           2.5\n",
       "  IC1683   20.6625  34.43694 ...    1.31          1.25          1.25\n",
       " NGC0523  21.33637  34.02494 ...    1.08           0.5           0.5\n",
       " NGC4149 182.63683  58.30414 ...    1.39           0.5           0.5\n",
       " NGC6361 259.67121  60.60817 ...    1.04           0.5           0.5\n",
       "UGC09665 225.38525  48.31975 ...    0.85           0.5           0.5\n",
       "UGC10123 239.76233  51.30467 ...    1.17           0.5           0.5\n",
       "  IC2247 123.99625  23.19961 ...    0.99           0.5           0.5\n",
       "  IC2487 142.53821  20.09086 ...    1.18           0.5           0.5\n",
       " NGC0447  18.90679  33.06772 ...    0.61          1.25          1.25\n",
       " NGC2347 109.01537  64.70892 ...    8.03          1.25          1.25\n",
       " NGC5657 217.68167  29.18083 ...    1.01           0.5           0.5\n",
       " NGC6394 262.58925  59.63989 ...    1.13           0.5           0.5\n",
       "UGC05598 155.55837  20.58942 ...    0.85           0.5           0.5"
      ]
     },
     "execution_count": 33,
     "metadata": {},
     "output_type": "execute_result"
    }
   ],
   "source": [
    "print (np.mean(t['offset'])) # in arcsecond\n",
    "t"
   ]
  },
  {
   "cell_type": "code",
   "execution_count": null,
   "metadata": {},
   "outputs": [],
   "source": [
    "\n"
   ]
  },
  {
   "cell_type": "code",
   "execution_count": null,
   "metadata": {},
   "outputs": [],
   "source": []
  }
 ],
 "metadata": {
  "kernelspec": {
   "display_name": "Python 3",
   "language": "python",
   "name": "python3"
  },
  "language_info": {
   "codemirror_mode": {
    "name": "ipython",
    "version": 3
   },
   "file_extension": ".py",
   "mimetype": "text/x-python",
   "name": "python",
   "nbconvert_exporter": "python",
   "pygments_lexer": "ipython3",
   "version": "3.6.5"
  }
 },
 "nbformat": 4,
 "nbformat_minor": 2
}
