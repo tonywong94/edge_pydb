{
 "cells": [
  {
   "cell_type": "code",
   "execution_count": 12,
   "metadata": {},
   "outputs": [],
   "source": [
    "import os\n",
    "from astropy.table import Table,vstack,hstack,join\n",
    "import astropy\n",
    "import numpy as np"
   ]
  },
  {
   "cell_type": "code",
   "execution_count": 13,
   "metadata": {},
   "outputs": [],
   "source": [
    "# Get the galaxy's central RA and DEC fron NED\n",
    "basedir = '/home/jovyan/carmaedge/edge-sql-base/'\n",
    "db1 = Table.read(basedir+'global_values/external/edge_ned.csv', format='ascii.ecsv')\n",
    "db2 = Table.read(basedir+'global_values/derived/edge_rfpars.csv', format='ascii.ecsv')\n",
    "db = join(db1, db2, keys='Name')"
   ]
  },
  {
   "cell_type": "code",
   "execution_count": 19,
   "metadata": {},
   "outputs": [
    {
     "data": {
      "text/plain": [
       "['galname',\n",
       " 'ractr_ned',\n",
       " 'dcctr_ned',\n",
       " 'ractr_fit',\n",
       " 'dcctr_fit',\n",
       " 'offset',\n",
       " 'Unc_SemiMajor',\n",
       " 'Unc_SemiMinor']"
      ]
     },
     "execution_count": 19,
     "metadata": {},
     "output_type": "execute_result"
    }
   ],
   "source": [
    "runs=['gal_nrad8','gal_nrad8_smolist','gal_nrad8_vdisp8','gal_nrad8_vdisp8_smolist']\n",
    "with open('detected.txt') as f:\n",
    "    namelist = f.read().splitlines()\n",
    "gallist = [gal for gal in namelist if not gal.startswith(\"#\")]\n",
    "with open('gallist_fitctr.txt') as f:\n",
    "    namelist_fitctr = f.read().splitlines()\n",
    "gallist_fitctr = [gal for gal in namelist_fitctr if not gal.startswith(\"#\")]\n",
    "gaufit_table=Table.read('mergeTable/ned_offset_compare.txt',format='ascii.ecsv')"
   ]
  },
  {
   "cell_type": "code",
   "execution_count": 35,
   "metadata": {},
   "outputs": [
    {
     "name": "stdout",
     "output_type": "stream",
     "text": [
      "reading ringlog2 for UGC00809 failed, probably because the table is empty\n",
      "reading ringlog2 for UGC00809 failed, probably because the table is empty\n",
      "['GAL_NAME', 'RACTR', 'DCCTR', 'offset', 'XPOSFIT(-1/0/1)', 'YPOSFIT(-1/0/1)', 'INCFIT(-1/0/1)', 'PAFIT(-1/0/1)', 'VSYSFIT(-1/0/1)', 'VDISPFIT(0/1)', 'VROTFIT(0/1)', 'FTYPE', 'WFUNC', 'BADFLAG', 'RAD', 'VROT', 'DISP', 'INC', 'P.A.', 'Z0', 'XPOS', 'YPOS', 'VSYS', 'E_VROT1', 'E_VROT2', 'E_DISP1', 'E_DISP2', 'E_PA1', 'E_PA2', 'E_VSYS1', 'E_VSYS2']\n",
      "['GAL_NAME', 'RACTR', 'DCCTR', 'offset', 'XPOSFIT(-1/0/1)', 'YPOSFIT(-1/0/1)', 'INCFIT(-1/0/1)', 'PAFIT(-1/0/1)', 'VSYSFIT(-1/0/1)', 'VDISPFIT(0/1)', 'VROTFIT(0/1)', 'FTYPE', 'WFUNC', 'BADFLAG', 'RAD', 'VROT', 'DISP', 'INC', 'P.A.', 'Z0', 'XPOS', 'YPOS', 'VSYS', 'E_VROT1', 'E_VROT2', 'E_DISP1', 'E_DISP2', 'E_PA1', 'E_PA2', 'E_VSYS1', 'E_VSYS2']\n",
      "reading ringlog2 for UGC00809 failed, probably because the table is empty\n",
      "reading ringlog2 for UGC00809 failed, probably because the table is empty\n",
      "['GAL_NAME', 'RACTR', 'DCCTR', 'offset', 'XPOSFIT(-1/0/1)', 'YPOSFIT(-1/0/1)', 'INCFIT(-1/0/1)', 'PAFIT(-1/0/1)', 'VSYSFIT(-1/0/1)', 'VDISPFIT(0/1)', 'VROTFIT(0/1)', 'FTYPE', 'WFUNC', 'BADFLAG', 'RAD', 'VROT', 'DISP', 'INC', 'P.A.', 'Z0', 'XPOS', 'YPOS', 'VSYS', 'E_VROT1', 'E_VROT2', 'E_PA1', 'E_PA2', 'E_VSYS1', 'E_VSYS2']\n",
      "['GAL_NAME', 'RACTR', 'DCCTR', 'offset', 'XPOSFIT(-1/0/1)', 'YPOSFIT(-1/0/1)', 'INCFIT(-1/0/1)', 'PAFIT(-1/0/1)', 'VSYSFIT(-1/0/1)', 'VDISPFIT(0/1)', 'VROTFIT(0/1)', 'FTYPE', 'WFUNC', 'BADFLAG', 'RAD', 'VROT', 'DISP', 'INC', 'P.A.', 'Z0', 'XPOS', 'YPOS', 'VSYS', 'E_VROT1', 'E_VROT2', 'E_PA1', 'E_PA2', 'E_VSYS1', 'E_VSYS2']\n"
     ]
    }
   ],
   "source": [
    "ringlogs=['ringlog1','ringlog2']\n",
    "for run in runs:\n",
    "    tablelist_run=[]\n",
    "    for gal in gallist:\n",
    "        tablelist_rings=[]\n",
    "        for ringlog in ringlogs:\n",
    "            ## Read ringlog1 also - it will have 1's for PAFIT and INCFIT (and others in FREE), but ringlog2 will have -1 (except VROT and VDISP).\n",
    "            #\n",
    "            #\n",
    "            if not os.path.isfile(run+'/output/'+gal[:8]+'/'+ringlog+'.txt'):\n",
    "                    continue\n",
    "            try:\n",
    "                gal_ringlog = Table.read(run+'/output/'+gal[:8]+'/'+ringlog+'.txt',format='ascii')\n",
    "            except:\n",
    "                print('reading ringlog2 for '+gal+' failed, probably because the table is empty')\n",
    "                continue\n",
    "            gal_ringlog.remove_columns(['RAD(Kpc)', 'Z0(pc)', 'SIG(E20)', 'VRAD(km/s)'])\n",
    "\n",
    "\n",
    "            #add columns:GAL_NAME, RACTR (deg), DCCTR (deg), INCFIT (0/1), PAFIT (0/1), XPOSFIT (0/1), YPOSFIT (0/1), VSYSFIT (0/1),VDISPFIT (0/1), FTYPE, WFUNC, BADFLAG\n",
    "            #for simplicity, create a new table first\n",
    "            row_number = gal_ringlog['RAD(arcs)'].shape[:][0]\n",
    "            t_addcol=Table()\n",
    "            GAL_NAME = [gal]*row_number\n",
    "            if gal in gallist_fitctr: #check whether the ctrpos used is the 2dgaufitted one\n",
    "                ractr_deg = gaufit_table[np.argwhere(gaufit_table['galname']==gal)[0][0]]['ractr_fit']\n",
    "                dcctr_deg = gaufit_table[np.argwhere(gaufit_table['galname']==gal)[0][0]]['dcctr_fit']\n",
    "                offset = row_number*[gaufit_table[np.argwhere(gaufit_table['galname']==gal)[0][0]]['offset']]\n",
    "            else:\n",
    "                i = np.where(db['Name'] == gal)[0][0]\n",
    "                ractr_deg = [db['nedRA'][i]]*row_number\n",
    "                dcctr_deg = [db['nedDE'][i]]*row_number\n",
    "                offset = row_number*[0]\n",
    "\n",
    "            parfile_path = run+'/param_'+gal+'.par'\n",
    "            with open(parfile_path) as parfile:\n",
    "                parfile_lines = parfile.read().splitlines()\n",
    "            freepars = [line for line in parfile_lines if line.startswith('FREE')][0]\n",
    "            freepars = freepars.split()[1:]\n",
    "            #freepar is a list containing the free parameters\n",
    "\n",
    "            #create a dictionary containing all the parameters\n",
    "            param_dic={'VDISP':[0]*row_number,'PA':[0]*row_number,'VSYS':[0]*row_number,\n",
    "                       'INC':[0]*row_number,'XPOS':[0]*row_number,'YPOS':[0]*row_number,'VROT':[0]*row_number}\n",
    "            #check which is free\n",
    "            exception = ['VROT','VDISP']\n",
    "            for freepar in freepars:\n",
    "                if ringlog == 'ringlog2':\n",
    "                    if freepar not in exception:\n",
    "                        param_dic[freepar]=[-1]*row_number\n",
    "                    else:\n",
    "                        param_dic[freepar]=[1]*row_number\n",
    "                else:\n",
    "                    param_dic[freepar]=[1]*row_number\n",
    "\n",
    "            #extract FTYPE and WFUNC\n",
    "            FTYPE = [line for line in parfile_lines if line.startswith('FTYPE')][0].split()[1]\n",
    "            WFUNC = [line for line in parfile_lines if line.startswith('WFUNC')][0].split()[1]\n",
    "            FTYPE = [int(FTYPE)]*row_number\n",
    "            WFUNC = [int(WFUNC)]*row_number\n",
    "\n",
    "            #set BADFLAG to 1 if any plot is missing\n",
    "            BADFLAG = [0]*row_number\n",
    "            plot_paths=['/plot_pv_local.pdf','/plot_parameters.pdf','/plot_maps_local.pdf','/plot_chanmaps_local.pdf']\n",
    "            for plot_path in plot_paths:\n",
    "                #gal[:8] is because the rest characters are truncated.\n",
    "                if not os.path.isfile(run+'/output/'+gal[:8]+plot_path): \n",
    "                    BADFLAG = [1]*row_number\n",
    "                    break\n",
    "\n",
    "            t_addcol['GAL_NAME']=GAL_NAME\n",
    "            t_addcol['RACTR']=ractr_deg\n",
    "            t_addcol['DCCTR']=dcctr_deg\n",
    "            t_addcol['offset'] = offset\n",
    "            t_addcol['XPOSFIT(-1/0/1)']=param_dic['XPOS']\n",
    "            t_addcol['YPOSFIT(-1/0/1)']=param_dic['YPOS']\n",
    "            t_addcol['INCFIT(-1/0/1)']=param_dic['INC']\n",
    "            t_addcol['PAFIT(-1/0/1)']=param_dic['PA']\n",
    "            t_addcol['VSYSFIT(-1/0/1)']=param_dic['VSYS']\n",
    "            t_addcol['VDISPFIT(0/1)']=param_dic['VDISP']\n",
    "            t_addcol['VROTFIT(0/1)']=param_dic['VROT']\n",
    "            t_addcol['FTYPE']=FTYPE\n",
    "            t_addcol['WFUNC']=WFUNC\n",
    "            t_addcol['BADFLAG']=BADFLAG\n",
    "            \n",
    "    #        print(t_addcol)\n",
    "            t_galring = hstack([t_addcol,gal_ringlog])\n",
    "            tablelist_rings.append(t_galring)\n",
    "        #some gals only have ringlog1, or no ringlog at all since it is not contained in that run\n",
    "        if len(tablelist_rings)==0:\n",
    "            continue\n",
    "        elif len(tablelist_rings)==1:\n",
    "            t_gal=tablelist_rings[0]\n",
    "        else:\n",
    "            t_gal=vstack(tablelist_rings)\n",
    "        tablelist_run.append(t_gal)\n",
    "#        print(t_addcol)\n",
    "    t_run = vstack(tablelist_run)\n",
    "    \n",
    "    renamecols = ['RAD(arcs)', 'VROT(km/s)', 'DISP(km/s)','INC(deg)','P.A.(deg)','Z0(arcs)','XPOS(pix)','YPOS(pix)','VSYS(km/s)']\n",
    "    for colname in renamecols:\n",
    "        t_run.rename_column(colname, colname[:colname.find('(')])\n",
    "    print (t_run.colnames)\n",
    "    fitparam = ['XPOSFIT(-1/0/1)','YPOSFIT(-1/0/1)','INCFIT(-1/0/1)','PAFIT(-1/0/1)','VSYSFIT(-1/0/1)','VDISPFIT(0/1)','VROTFIT(0/1)']\n",
    "    Kmsparam = ['VROT','DISP','VSYS','E_VROT1','E_VROT2','E_DISP1','E_DISP2','E_VSYS1','E_VSYS2']\n",
    "    Degparam = ['RACTR','DCCTR','INC','P.A.','E_PA1','E_PA2']\n",
    "    Arcsparam = ['RAD','Z0','offset']\n",
    "    Pixparam = ['XPOS','YPOS']\n",
    "    \n",
    "    t_run['BADFLAG'].description = 'BADFLAG = 1 when some ringlog exits, but Bbarolo fails to produce at least one of the plots'\n",
    "    for col in fitparam:\n",
    "        t_run[col].description = '0=fixed to input value; 1=fitted per ring; -1=fixed to mean value of previous fit'\n",
    "    for col in Kmsparam:\n",
    "        if ('vdisp' in run) and ('E_DISP' in col):\n",
    "            continue\n",
    "        if col not in t_run.colnames:\n",
    "            continue\n",
    "        t_run[col].unit = 'km/s'\n",
    "    for col in Degparam:\n",
    "        if col not in t_run.colnames:\n",
    "            continue\n",
    "        t_run[col].unit = 'deg'\n",
    "    for col in Arcsparam:\n",
    "        if col not in t_run.colnames:\n",
    "            continue\n",
    "        t_run[col].unit = 'arcsec'\n",
    "    for col in Pixparam:\n",
    "        t_run[col].unit = 'pixel'\n",
    "    if 'offset' in t_run.colnames:\n",
    "        t_run['offset'].description = 'offset from ned position. Only not equal to 0 when a 2D-Gaussian-fitted position is used'\n",
    "    t_run.write('mergeTable/'+run+'.txt',overwrite=True,delimiter=',',format='ascii.ecsv')"
   ]
  },
  {
   "cell_type": "code",
   "execution_count": 31,
   "metadata": {},
   "outputs": [
    {
     "name": "stderr",
     "output_type": "stream",
     "text": [
      "WARNING: OverflowError converting to FloatType in column col4, possibly resulting in degraded precision. [astropy.io.ascii.fastbasic]\n",
      "WARNING: OverflowError converting to FloatType in column col6, possibly resulting in degraded precision. [astropy.io.ascii.fastbasic]\n",
      "WARNING: UnitsWarning: 'Jy*km/s/arcsec**2' contains multiple slashes, which is discouraged by the FITS standard [astropy.units.format.generic]\n"
     ]
    }
   ],
   "source": [
    "colnames_keep=['RADIUS','NPIX','SURFDENS','ERR_SD']\n",
    "Densparam = ['SURFDENS','ERR_SD']\n",
    "for run in runs:\n",
    "    densprof_run=[]\n",
    "    for gal in gallist:\n",
    "        if not os.path.isfile(run+'/output/'+gal[:8]+'/'+'densprof'+'.txt'):\n",
    "            continue\n",
    "        try:\n",
    "            gal_densprof = Table.read(run+'/output/'+gal[:8]+'/'+'densprof'+'.txt',format='ascii')\n",
    "        except:\n",
    "            print('reading densprof for '+gal+' failed, probably because the table is empty')\n",
    "            continue\n",
    "        colnames = 'RADIUS         SUM        MEAN      MEDIAN      STDDEV         MAD   NPIX     SURFDENS       ERR_SD  SURFDENS_FO   MSURFDENS  MSURFDENS2'.split()\n",
    "        densprof_table = Table()\n",
    "        densprof_table['GAL_NAME']=[gal]*len(gal_densprof)\n",
    "        for colnumber in range(len(colnames)):\n",
    "            if colnames[colnumber] in colnames_keep:\n",
    "                densprof_table[colnames[colnumber]]=gal_densprof['col'+str(colnumber+1)]\n",
    "        densprof_run.append(densprof_table)\n",
    "        \n",
    "    t_run_densprof = vstack(densprof_run)\n",
    "    t_run_densprof['RADIUS'].unit = 'arcsec'\n",
    "    t_run_densprof['NPIX'].description = '# of pixels in ring'\n",
    "    for col in Densparam:\n",
    "        t_run_densprof[col].unit = 'Jy*km/s/arcsec**2'\n",
    "    t_run_densprof['SURFDENS'].description = 'average intensity in ring, not corrected for inclination'\n",
    "    t_run_densprof['ERR_SD'].description = 'standard deviation of intensity in ring'\n",
    "    \n",
    "    t_run_densprof.write('mergeTable/'+run+'_densprof.txt',overwrite=True,delimiter=',',format='ascii.ecsv')"
   ]
  },
  {
   "cell_type": "code",
   "execution_count": 32,
   "metadata": {},
   "outputs": [],
   "source": [
    "t = Table.read('mergeTable/gal_nrad8.txt',format='ascii.ecsv')"
   ]
  },
  {
   "cell_type": "code",
   "execution_count": 38,
   "metadata": {},
   "outputs": [],
   "source": []
  },
  {
   "cell_type": "code",
   "execution_count": null,
   "metadata": {},
   "outputs": [],
   "source": []
  }
 ],
 "metadata": {
  "kernelspec": {
   "display_name": "Python 3",
   "language": "python",
   "name": "python3"
  },
  "language_info": {
   "codemirror_mode": {
    "name": "ipython",
    "version": 3
   },
   "file_extension": ".py",
   "mimetype": "text/x-python",
   "name": "python",
   "nbconvert_exporter": "python",
   "pygments_lexer": "ipython3",
   "version": "3.6.5"
  }
 },
 "nbformat": 4,
 "nbformat_minor": 2
}
