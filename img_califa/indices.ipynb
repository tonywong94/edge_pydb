{
 "cells": [
  {
   "cell_type": "code",
   "execution_count": 1,
   "metadata": {},
   "outputs": [],
   "source": [
    "import numpy as np\n",
    "from astropy.io import fits\n",
    "from astropy.table import Table, Column, join\n",
    "from astropy.wcs import WCS"
   ]
  },
  {
   "cell_type": "code",
   "execution_count": 2,
   "metadata": {},
   "outputs": [],
   "source": [
    "def fitsextract(filename, stride=[1,1,1], keepref=True, keepnan=True, header=None, \n",
    "                lbl='index',bunit=None, col_name=None, zselect=None, suffix=''):\n",
    "    hdu   = fits.open(filename)[0]\n",
    "    data  = hdu.data\n",
    "    hdr   = hdu.header if header is None else header\n",
    "    bunit = hdr['BUNIT'] if bunit is None else bunit\n",
    "    w     = WCS(hdr)\n",
    "    print('RA ref is',w.wcs.crval[0])\n",
    "    print('DEC ref is',w.wcs.crval[1])\n",
    "    ndim  = len(data.shape)\n",
    "    iscube = (ndim > 2 and data.shape[ndim-3] > 1)\n",
    "    pseudo = (hdr['ctype3'] == '')\n",
    "    if iscube and not pseudo:\n",
    "        print('This is a data cube of shape', data.shape)\n",
    "        data = np.squeeze(data)\n",
    "        if len(data.shape) > 3:\n",
    "            raise ('Data cannot be squeezed to three dimensions')\n",
    "        naxis = 3\n",
    "        nz,ny,nx = data.shape\n",
    "        ix,iy,iz = np.meshgrid(np.arange(nx), np.arange(ny), np.arange(nz),\n",
    "                               indexing='ij')\n",
    "        tab = Table([np.ravel(ix), np.ravel(iy), np.ravel(iz)],\n",
    "                  names=('ix','iy','iz'),dtype=('i4','i4','i4'))\n",
    "        # Get the pixel coordinates as tuples\n",
    "        wcsin = (np.array([tab['ix'],tab['iy'],tab['iz']])).T\n",
    "    else:\n",
    "        print('This is an image of shape', data.shape)\n",
    "        data = np.squeeze(data)\n",
    "        naxis = 2\n",
    "        if pseudo:\n",
    "            nz,ny,nx = data.shape\n",
    "        else:\n",
    "            ny,nx = data.shape\n",
    "        ix,iy = np.meshgrid(np.arange(nx), np.arange(ny), indexing='ij')\n",
    "        tab = Table([np.ravel(ix), np.ravel(iy)],\n",
    "                    names=('ix','iy'),dtype=('i4','i4'))\n",
    "        # Get the pixel coordinates as tuples\n",
    "        wcsin = (np.array([tab['ix'],tab['iy']])).T\n",
    "    wfix = w.sub(naxis)\n",
    "    wcsout = wfix.wcs_pix2world(wcsin,0)\n",
    "    col_ra = Column(wcsout.T[0]-w.wcs.crval[0], name='ra_off',  dtype='f4', unit='deg')\n",
    "    col_dc = Column(wcsout.T[1]-w.wcs.crval[1], name='dec_off', dtype='f4', unit='deg')\n",
    "    tab.add_columns([col_ra,col_dc])\n",
    "    if iscube and not pseudo:\n",
    "        col_vel = Column(wcsout.T[2]/1000., name='vel', dtype='f4', unit='km/s')\n",
    "        tab.add_column(col_vel)\n",
    "    # Use order = 'F' because the velocity axis is first\n",
    "    if pseudo:\n",
    "        zsel = range(nz) if zselect is None else zselect\n",
    "        for i in zsel:\n",
    "            col_data = Column(np.ravel(data[i],order='F'), \n",
    "                              name=hdr[lbl+str(i)]+suffix, dtype='f4', unit=bunit)\n",
    "            tab.add_column(col_data)\n",
    "    else:\n",
    "        cname = 'imgdata' if col_name is None else col_name\n",
    "        col_data = Column(np.ravel(data,order='F'), name=cname, dtype='f4', unit=bunit)\n",
    "        tab.add_column(col_data)\n",
    "    # Select the desired rows from the full table\n",
    "    idx = ['ix', 'iy', 'iz']\n",
    "    rem = [0, 0, 0]\n",
    "    select = [[],[],[]]\n",
    "    if keepref:\n",
    "        for i in range(naxis):\n",
    "            crpix = wfix.wcs.crpix[i]\n",
    "            if crpix < 1 or crpix > hdr['naxis'+str(i+1)] or not crpix.is_integer():\n",
    "                print('Cannot use keepref on axis {}: crpix={}'.format(i+1,crpix))\n",
    "                continue\n",
    "            else:\n",
    "                print('Axis {}: crpix={}'.format(i+1,crpix))\n",
    "                rem[i] = int(crpix-1) % stride[i]\n",
    "        print('Remainder: ',rem)\n",
    "    for i in range(naxis):\n",
    "        select[i]=np.where(tab[idx[i]] % stride[i] == rem[i])[0]\n",
    "    xy = np.intersect1d(select[0], select[1])\n",
    "    if iscube and not pseudo:\n",
    "        xyz = np.intersect1d(xy, select[2])\n",
    "        if len(xyz) < len(tab):\n",
    "            newtab = tab[xyz]\n",
    "            tab = newtab\n",
    "    else:\n",
    "        if len(xy) < len(tab):\n",
    "            newtab = tab[xy]\n",
    "            tab = newtab\n",
    "    # Remove NaN rows if desired\n",
    "    if not keepnan:\n",
    "        newtab = tab[~np.isnan(tab['imgdata'])]\n",
    "        tab = newtab\n",
    "    return tab\n",
    "\n"
   ]
  },
  {
   "cell_type": "code",
   "execution_count": 3,
   "metadata": {},
   "outputs": [],
   "source": [
    "# Still need to regrid to match EDGE CO data.  Should treat 0's as NaN."
   ]
  },
  {
   "cell_type": "code",
   "execution_count": 4,
   "metadata": {},
   "outputs": [
    {
     "name": "stdout",
     "output_type": "stream",
     "text": [
      "RA ref is 180.7109389\n",
      "DEC ref is 48.63599793\n",
      "This is an image of shape (18, 72, 77)\n",
      "Axis 1: crpix=38.0\n",
      "Axis 2: crpix=33.0\n",
      "Remainder:  [1, 0, 0]\n"
     ]
    },
    {
     "name": "stderr",
     "output_type": "stream",
     "text": [
      "WARNING: FITSFixedWarning: 'cdfix' made the change 'Success'. [astropy.wcs.wcs]\n"
     ]
    }
   ],
   "source": [
    "# First read the native resolution file since it has the astrometry\n",
    "file='fitsdata/xindices.CS.NGC4047.cube.fits.gz'\n",
    "hdr = fits.getheader(file)\n",
    "tab0 = fitsextract(file, keepnan=True, stride=[2,2,1], bunit='Angstrom', lbl='index', suffix='_rg')"
   ]
  },
  {
   "cell_type": "code",
   "execution_count": 5,
   "metadata": {},
   "outputs": [
    {
     "name": "stdout",
     "output_type": "stream",
     "text": [
      "RA ref is 180.7109389\n",
      "DEC ref is 48.63599793\n",
      "This is an image of shape (18, 72, 77)\n",
      "Axis 1: crpix=38.0\n",
      "Axis 2: crpix=33.0\n",
      "Remainder:  [1, 0, 0]\n"
     ]
    },
    {
     "name": "stderr",
     "output_type": "stream",
     "text": [
      "WARNING: FITSFixedWarning: 'cdfix' made the change 'Success'. [astropy.wcs.wcs]\n"
     ]
    }
   ],
   "source": [
    "# Then read the smoothed file\n",
    "file='fitsdata/indices.CS.NGC4047.cube.fits.gz'\n",
    "tab1 = fitsextract(file, keepnan=True, stride=[2,2,1], header=hdr, bunit='Angstrom', lbl='index', suffix='_sm')"
   ]
  },
  {
   "cell_type": "code",
   "execution_count": 7,
   "metadata": {},
   "outputs": [],
   "source": [
    "joint=join(tab0,tab1)\n",
    "#joint.show_in_notebook()"
   ]
  },
  {
   "cell_type": "code",
   "execution_count": null,
   "metadata": {},
   "outputs": [],
   "source": []
  }
 ],
 "metadata": {
  "kernelspec": {
   "display_name": "Python 3",
   "language": "python",
   "name": "python3"
  },
  "language_info": {
   "codemirror_mode": {
    "name": "ipython",
    "version": 3
   },
   "file_extension": ".py",
   "mimetype": "text/x-python",
   "name": "python",
   "nbconvert_exporter": "python",
   "pygments_lexer": "ipython3",
   "version": "3.6.5"
  }
 },
 "nbformat": 4,
 "nbformat_minor": 2
}
