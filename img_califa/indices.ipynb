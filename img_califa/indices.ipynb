{
 "cells": [
  {
   "cell_type": "code",
   "execution_count": 5,
   "metadata": {},
   "outputs": [
    {
     "ename": "ModuleNotFoundError",
     "evalue": "No module named 'reproject.spherical_intersect._overlap'",
     "output_type": "error",
     "traceback": [
      "\u001b[0;31m---------------------------------------------------------------------------\u001b[0m",
      "\u001b[0;31mModuleNotFoundError\u001b[0m                       Traceback (most recent call last)",
      "\u001b[0;32m<ipython-input-5-8ae3cd190f4e>\u001b[0m in \u001b[0;36m<module>\u001b[0;34m()\u001b[0m\n\u001b[1;32m      5\u001b[0m \u001b[0;32mimport\u001b[0m \u001b[0msys\u001b[0m\u001b[0;34m\u001b[0m\u001b[0m\n\u001b[1;32m      6\u001b[0m \u001b[0msys\u001b[0m\u001b[0;34m.\u001b[0m\u001b[0mpath\u001b[0m\u001b[0;34m.\u001b[0m\u001b[0mappend\u001b[0m\u001b[0;34m(\u001b[0m\u001b[0;34m'/home/jovyan/site-packages/'\u001b[0m\u001b[0;34m)\u001b[0m\u001b[0;34m\u001b[0m\u001b[0m\n\u001b[0;32m----> 7\u001b[0;31m \u001b[0;32mfrom\u001b[0m \u001b[0mreproject\u001b[0m \u001b[0;32mimport\u001b[0m \u001b[0mreproject_interp\u001b[0m\u001b[0;34m\u001b[0m\u001b[0m\n\u001b[0m",
      "\u001b[0;32m~/site-packages/reproject/__init__.py\u001b[0m in \u001b[0;36m<module>\u001b[0;34m()\u001b[0m\n\u001b[1;32m     12\u001b[0m \u001b[0;32mif\u001b[0m \u001b[0;32mnot\u001b[0m \u001b[0m_ASTROPY_SETUP_\u001b[0m\u001b[0;34m:\u001b[0m\u001b[0;34m\u001b[0m\u001b[0m\n\u001b[1;32m     13\u001b[0m     \u001b[0;32mfrom\u001b[0m \u001b[0;34m.\u001b[0m\u001b[0minterpolation\u001b[0m \u001b[0;32mimport\u001b[0m \u001b[0mreproject_interp\u001b[0m\u001b[0;34m\u001b[0m\u001b[0m\n\u001b[0;32m---> 14\u001b[0;31m     \u001b[0;32mfrom\u001b[0m \u001b[0;34m.\u001b[0m\u001b[0mspherical_intersect\u001b[0m \u001b[0;32mimport\u001b[0m \u001b[0mreproject_exact\u001b[0m\u001b[0;34m\u001b[0m\u001b[0m\n\u001b[0m\u001b[1;32m     15\u001b[0m     \u001b[0;32mfrom\u001b[0m \u001b[0;34m.\u001b[0m\u001b[0mhealpix\u001b[0m \u001b[0;32mimport\u001b[0m \u001b[0mreproject_from_healpix\u001b[0m\u001b[0;34m,\u001b[0m \u001b[0mreproject_to_healpix\u001b[0m\u001b[0;34m\u001b[0m\u001b[0m\n",
      "\u001b[0;32m~/site-packages/reproject/spherical_intersect/__init__.py\u001b[0m in \u001b[0;36m<module>\u001b[0;34m()\u001b[0m\n\u001b[1;32m      3\u001b[0m \u001b[0mRoutines\u001b[0m \u001b[0mto\u001b[0m \u001b[0mcompute\u001b[0m \u001b[0mpixel\u001b[0m \u001b[0moverlap\u001b[0m \u001b[0mareas\u001b[0m\u001b[0;34m.\u001b[0m\u001b[0;34m\u001b[0m\u001b[0m\n\u001b[1;32m      4\u001b[0m \"\"\"\n\u001b[0;32m----> 5\u001b[0;31m \u001b[0;32mfrom\u001b[0m \u001b[0;34m.\u001b[0m\u001b[0mhigh_level\u001b[0m \u001b[0;32mimport\u001b[0m \u001b[0;34m*\u001b[0m\u001b[0;34m\u001b[0m\u001b[0m\n\u001b[0m",
      "\u001b[0;32m~/site-packages/reproject/spherical_intersect/high_level.py\u001b[0m in \u001b[0;36m<module>\u001b[0;34m()\u001b[0m\n\u001b[1;32m      4\u001b[0m \u001b[0;34m\u001b[0m\u001b[0m\n\u001b[1;32m      5\u001b[0m \u001b[0;32mfrom\u001b[0m \u001b[0;34m.\u001b[0m\u001b[0;34m.\u001b[0m\u001b[0mutils\u001b[0m \u001b[0;32mimport\u001b[0m \u001b[0mparse_input_data\u001b[0m\u001b[0;34m,\u001b[0m \u001b[0mparse_output_projection\u001b[0m\u001b[0;34m\u001b[0m\u001b[0m\n\u001b[0;32m----> 6\u001b[0;31m \u001b[0;32mfrom\u001b[0m \u001b[0;34m.\u001b[0m\u001b[0mcore\u001b[0m \u001b[0;32mimport\u001b[0m \u001b[0m_reproject_celestial\u001b[0m\u001b[0;34m\u001b[0m\u001b[0m\n\u001b[0m\u001b[1;32m      7\u001b[0m \u001b[0;34m\u001b[0m\u001b[0m\n\u001b[1;32m      8\u001b[0m \u001b[0m__all__\u001b[0m \u001b[0;34m=\u001b[0m \u001b[0;34m[\u001b[0m\u001b[0;34m'reproject_exact'\u001b[0m\u001b[0;34m]\u001b[0m\u001b[0;34m\u001b[0m\u001b[0m\n",
      "\u001b[0;32m~/site-packages/reproject/spherical_intersect/core.py\u001b[0m in \u001b[0;36m<module>\u001b[0;34m()\u001b[0m\n\u001b[1;32m      9\u001b[0m \u001b[0;32mfrom\u001b[0m \u001b[0;34m.\u001b[0m\u001b[0;34m.\u001b[0m\u001b[0mwcs_utils\u001b[0m \u001b[0;32mimport\u001b[0m \u001b[0mconvert_world_coordinates\u001b[0m\u001b[0;34m\u001b[0m\u001b[0m\n\u001b[1;32m     10\u001b[0m \u001b[0;34m\u001b[0m\u001b[0m\n\u001b[0;32m---> 11\u001b[0;31m \u001b[0;32mfrom\u001b[0m \u001b[0;34m.\u001b[0m\u001b[0m_overlap\u001b[0m \u001b[0;32mimport\u001b[0m \u001b[0m_compute_overlap\u001b[0m\u001b[0;34m\u001b[0m\u001b[0m\n\u001b[0m\u001b[1;32m     12\u001b[0m \u001b[0;34m\u001b[0m\u001b[0m\n\u001b[1;32m     13\u001b[0m \u001b[0;34m\u001b[0m\u001b[0m\n",
      "\u001b[0;31mModuleNotFoundError\u001b[0m: No module named 'reproject.spherical_intersect._overlap'"
     ]
    }
   ],
   "source": [
    "import numpy as np\n",
    "from astropy.io import fits\n",
    "from astropy.table import Table, Column, join\n",
    "from astropy.wcs import WCS\n",
    "import sys\n",
    "sys.path.append('/home/jovyan/site-packages/')\n",
    "from reproject import reproject_interp"
   ]
  },
  {
   "cell_type": "code",
   "execution_count": 2,
   "metadata": {},
   "outputs": [],
   "source": [
    "def fitsextract(filename, stride=[1,1,1], keepref=True, keepnan=True, header=None, \n",
    "                lbl='index',bunit=None, col_name=None, zselect=None, suffix=''):\n",
    "    hdu   = fits.open(filename)[0]\n",
    "    data  = hdu.data\n",
    "    hdr   = hdu.header if header is None else header\n",
    "    bunit = hdr['BUNIT'] if bunit is None else bunit\n",
    "    w     = WCS(hdr)\n",
    "    print('RA ref is',w.wcs.crval[0])\n",
    "    print('DEC ref is',w.wcs.crval[1])\n",
    "    ndim  = len(data.shape)\n",
    "    iscube = (ndim > 2 and data.shape[ndim-3] > 1)\n",
    "    pseudo = (hdr['ctype3'] == '')\n",
    "    if iscube and not pseudo:\n",
    "        print('This is a data cube of shape', data.shape)\n",
    "        data = np.squeeze(data)\n",
    "        if len(data.shape) > 3:\n",
    "            raise ('Data cannot be squeezed to three dimensions')\n",
    "        naxis = 3\n",
    "        nz,ny,nx = data.shape\n",
    "        ix,iy,iz = np.meshgrid(np.arange(nx), np.arange(ny), np.arange(nz),\n",
    "                               indexing='ij')\n",
    "        tab = Table([np.ravel(ix), np.ravel(iy), np.ravel(iz)],\n",
    "                  names=('ix','iy','iz'),dtype=('i4','i4','i4'))\n",
    "        # Get the pixel coordinates as tuples\n",
    "        wcsin = (np.array([tab['ix'],tab['iy'],tab['iz']])).T\n",
    "    else:\n",
    "        print('This is an image of shape', data.shape)\n",
    "        data = np.squeeze(data)\n",
    "        naxis = 2\n",
    "        if pseudo:\n",
    "            nz,ny,nx = data.shape\n",
    "        else:\n",
    "            ny,nx = data.shape\n",
    "        ix,iy = np.meshgrid(np.arange(nx), np.arange(ny), indexing='ij')\n",
    "        tab = Table([np.ravel(ix), np.ravel(iy)],\n",
    "                    names=('ix','iy'),dtype=('i4','i4'))\n",
    "        # Get the pixel coordinates as tuples\n",
    "        wcsin = (np.array([tab['ix'],tab['iy']])).T\n",
    "    wfix = w.sub(naxis)\n",
    "    wcsout = wfix.wcs_pix2world(wcsin,0)\n",
    "    col_ra = Column(wcsout.T[0]-w.wcs.crval[0], name='ra_off',  dtype='f4', unit='deg')\n",
    "    col_dc = Column(wcsout.T[1]-w.wcs.crval[1], name='dec_off', dtype='f4', unit='deg')\n",
    "    tab.add_columns([col_ra,col_dc])\n",
    "    if iscube and not pseudo:\n",
    "        col_vel = Column(wcsout.T[2]/1000., name='vel', dtype='f4', unit='km/s')\n",
    "        tab.add_column(col_vel)\n",
    "    # Use order = 'F' because the velocity axis is first\n",
    "    if pseudo:\n",
    "        zsel = range(nz) if zselect is None else zselect\n",
    "        for i in zsel:\n",
    "            col_data = Column(np.ravel(data[i],order='F'), \n",
    "                              name=hdr[lbl+str(i)]+suffix, dtype='f4', unit=bunit)\n",
    "            tab.add_column(col_data)\n",
    "    else:\n",
    "        cname = 'imgdata' if col_name is None else col_name\n",
    "        col_data = Column(np.ravel(data,order='F'), name=cname, dtype='f4', unit=bunit)\n",
    "        tab.add_column(col_data)\n",
    "    # Select the desired rows from the full table\n",
    "    idx = ['ix', 'iy', 'iz']\n",
    "    rem = [0, 0, 0]\n",
    "    select = [[],[],[]]\n",
    "    if keepref:\n",
    "        for i in range(naxis):\n",
    "            crpix = wfix.wcs.crpix[i]\n",
    "            if crpix < 1 or crpix > hdr['naxis'+str(i+1)] or not crpix.is_integer():\n",
    "                print('Cannot use keepref on axis {}: crpix={}'.format(i+1,crpix))\n",
    "                continue\n",
    "            else:\n",
    "                print('Axis {}: crpix={}'.format(i+1,crpix))\n",
    "                rem[i] = int(crpix-1) % stride[i]\n",
    "        print('Remainder: ',rem)\n",
    "    for i in range(naxis):\n",
    "        select[i]=np.where(tab[idx[i]] % stride[i] == rem[i])[0]\n",
    "    xy = np.intersect1d(select[0], select[1])\n",
    "    if iscube and not pseudo:\n",
    "        xyz = np.intersect1d(xy, select[2])\n",
    "        if len(xyz) < len(tab):\n",
    "            newtab = tab[xyz]\n",
    "            tab = newtab\n",
    "    else:\n",
    "        if len(xy) < len(tab):\n",
    "            newtab = tab[xy]\n",
    "            tab = newtab\n",
    "    # Remove NaN rows if desired\n",
    "    if not keepnan:\n",
    "        newtab = tab[~np.isnan(tab['imgdata'])]\n",
    "        tab = newtab\n",
    "    return tab\n",
    "\n"
   ]
  },
  {
   "cell_type": "code",
   "execution_count": 3,
   "metadata": {},
   "outputs": [
    {
     "ename": "ModuleNotFoundError",
     "evalue": "No module named 'reproject'",
     "output_type": "error",
     "traceback": [
      "\u001b[0;31m---------------------------------------------------------------------------\u001b[0m",
      "\u001b[0;31mModuleNotFoundError\u001b[0m                       Traceback (most recent call last)",
      "\u001b[0;32m<ipython-input-3-ebb9989acaf1>\u001b[0m in \u001b[0;36m<module>\u001b[0;34m()\u001b[0m\n\u001b[1;32m      1\u001b[0m \u001b[0;31m# Still need to regrid to match EDGE CO data.  Should treat 0's as NaN.\u001b[0m\u001b[0;34m\u001b[0m\u001b[0;34m\u001b[0m\u001b[0m\n\u001b[0;32m----> 2\u001b[0;31m \u001b[0;32mfrom\u001b[0m \u001b[0mreproject\u001b[0m \u001b[0;32mimport\u001b[0m \u001b[0mreproject_interp\u001b[0m\u001b[0;34m\u001b[0m\u001b[0m\n\u001b[0m\u001b[1;32m      3\u001b[0m \u001b[0mcohd\u001b[0m \u001b[0;34m=\u001b[0m \u001b[0mfits\u001b[0m\u001b[0;34m.\u001b[0m\u001b[0mgetheader\u001b[0m\u001b[0;34m(\u001b[0m\u001b[0;34m'../../img_califa/fitsdata/NGC4047.co.smo7_dil.mom0.fits.gz'\u001b[0m\u001b[0;34m)\u001b[0m\u001b[0;34m\u001b[0m\u001b[0m\n\u001b[1;32m      4\u001b[0m \u001b[0mcahd\u001b[0m \u001b[0;34m=\u001b[0m \u001b[0mfits\u001b[0m\u001b[0;34m.\u001b[0m\u001b[0mgetheader\u001b[0m\u001b[0;34m(\u001b[0m\u001b[0;34m'fitsdata/xindices.CS.NGC4047.cube.fits.gz'\u001b[0m\u001b[0;34m)\u001b[0m\u001b[0;34m\u001b[0m\u001b[0m\n\u001b[1;32m      5\u001b[0m \u001b[0mouthd\u001b[0m \u001b[0;34m=\u001b[0m \u001b[0mcahd\u001b[0m\u001b[0;34m.\u001b[0m\u001b[0mcopy\u001b[0m\u001b[0;34m(\u001b[0m\u001b[0;34m)\u001b[0m\u001b[0;34m\u001b[0m\u001b[0m\n",
      "\u001b[0;31mModuleNotFoundError\u001b[0m: No module named 'reproject'"
     ]
    }
   ],
   "source": [
    "# Still need to regrid to match EDGE CO data.  Should treat 0's as NaN.\n",
    "cohd = fits.getheader('../../img_califa/fitsdata/NGC4047.co.smo7_dil.mom0.fits.gz')\n",
    "cahd = fits.getheader('fitsdata/xindices.CS.NGC4047.cube.fits.gz')\n",
    "outhd = cahd.copy()\n",
    "for key in ['NAXIS1', 'NAXIS2', 'CTYPE1', 'CTYPE2', 'CRVAL1', 'CRVAL2', 'CRPIX1', 'CRPIX2', 'CDELT1', 'CDELT2']:\n",
    "    outhd[key] = cohd[key]\n",
    "for key in ['CD1_1','CD1_2','CD2_1','CD2_2']:\n",
    "    del outhd[key]\n",
    "print(repr(outhd))\n",
    "hdu = fits.open('fitsdata/xindices.CS.NGC4047.cube.fits.gz')[0]\n",
    "hdu.data[hdu.data==0] = np.nan\n",
    "newim,foot=reproject_interp(hdu,outhd,independent_celestial_slices=True)\n",
    "fits.writeto('reprojected_image.fits.gz', newim, outhd)\n",
    "\n",
    "#     h1=fits.getheader(co_cube_dir+galaxy+co_cube_file)\n",
    "#     h1.remove('NAXIS3')\n",
    "#     h1.remove('CRPIX3')\n",
    "#     h1.remove('CDELT3')\n",
    "#     h1.remove('CRVAL3')\n",
    "#     h1.remove('CTYPE3')\n",
    "#     h1['NAXIS']=2\n",
    "    \n",
    "#     # use the header of the new un-convolved elines\n",
    "#     h=fits.getheader(eline_dir2+galaxy+'.ELINES.cube.fits.gz',ignore_missing_end=True)\n",
    "#     h.remove('NAXIS3')\n",
    "#     h.remove('CRPIX3')\n",
    "#     h.remove('CDELT3')\n",
    "#     h.remove('CRVAL3')\n",
    "#     h.remove('CTYPE3')\n",
    "#     h.remove('CROTA3')\n",
    "#     h['NAXIS']=2\n",
    "    \n",
    "#     havel=fits.getdata(havel_refined_dir+galaxy+havel_refined_file)\n",
    "    \n",
    "#     havel_rep,_=reproject_interp((havel,h),h1)\n"
   ]
  },
  {
   "cell_type": "code",
   "execution_count": 4,
   "metadata": {},
   "outputs": [
    {
     "name": "stdout",
     "output_type": "stream",
     "text": [
      "RA ref is 180.7109389\n",
      "DEC ref is 48.63599793\n",
      "This is an image of shape (18, 72, 77)\n",
      "Axis 1: crpix=38.0\n",
      "Axis 2: crpix=33.0\n",
      "Remainder:  [1, 0, 0]\n"
     ]
    },
    {
     "name": "stderr",
     "output_type": "stream",
     "text": [
      "WARNING: FITSFixedWarning: 'cdfix' made the change 'Success'. [astropy.wcs.wcs]\n"
     ]
    }
   ],
   "source": [
    "# First read the native resolution file since it has the astrometry\n",
    "file='fitsdata/xindices.CS.NGC4047.cube.fits.gz'\n",
    "hdr = fits.getheader(file)\n",
    "tab0 = fitsextract(file, keepnan=True, stride=[2,2,1], bunit='Angstrom', lbl='index', suffix='_rg')"
   ]
  },
  {
   "cell_type": "code",
   "execution_count": 5,
   "metadata": {},
   "outputs": [
    {
     "name": "stdout",
     "output_type": "stream",
     "text": [
      "RA ref is 180.7109389\n",
      "DEC ref is 48.63599793\n",
      "This is an image of shape (18, 72, 77)\n",
      "Axis 1: crpix=38.0\n",
      "Axis 2: crpix=33.0\n",
      "Remainder:  [1, 0, 0]\n"
     ]
    },
    {
     "name": "stderr",
     "output_type": "stream",
     "text": [
      "WARNING: FITSFixedWarning: 'cdfix' made the change 'Success'. [astropy.wcs.wcs]\n"
     ]
    }
   ],
   "source": [
    "# Then read the smoothed file\n",
    "file='fitsdata/indices.CS.NGC4047.cube.fits.gz'\n",
    "tab1 = fitsextract(file, keepnan=True, stride=[2,2,1], header=hdr, bunit='Angstrom', lbl='index', suffix='_sm')"
   ]
  },
  {
   "cell_type": "code",
   "execution_count": 7,
   "metadata": {},
   "outputs": [],
   "source": [
    "joint=join(tab0,tab1)\n",
    "#joint.show_in_notebook()"
   ]
  },
  {
   "cell_type": "code",
   "execution_count": null,
   "metadata": {},
   "outputs": [],
   "source": []
  }
 ],
 "metadata": {
  "kernelspec": {
   "display_name": "Python 3",
   "language": "python",
   "name": "python3"
  },
  "language_info": {
   "codemirror_mode": {
    "name": "ipython",
    "version": 3
   },
   "file_extension": ".py",
   "mimetype": "text/x-python",
   "name": "python",
   "nbconvert_exporter": "python",
   "pygments_lexer": "ipython3",
   "version": "3.6.5"
  }
 },
 "nbformat": 4,
 "nbformat_minor": 2
}
