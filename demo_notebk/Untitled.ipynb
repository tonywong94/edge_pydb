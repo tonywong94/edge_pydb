{
 "cells": [
  {
   "cell_type": "code",
   "execution_count": 1,
   "metadata": {},
   "outputs": [],
   "source": [
    "import edge_pydb\n",
    "import astropy"
   ]
  },
  {
   "cell_type": "code",
   "execution_count": 2,
   "metadata": {},
   "outputs": [],
   "source": [
    "import h5py\n",
    "from astropy.table import Table\n",
    "from edge_pydb import EdgeTable"
   ]
  },
  {
   "cell_type": "code",
   "execution_count": 3,
   "metadata": {},
   "outputs": [
    {
     "data": {
      "text/plain": [
       "['cospec_smo7.csv',\n",
       " 'NGC4047.pipe3d.hdf5',\n",
       " 'NGC4047.cocube_smo7.hdf5',\n",
       " 'edge_bbpars_smo7.csv',\n",
       " 'edge_rfpars.csv',\n",
       " 'edge_hiflux.csv',\n",
       " 'edge_bbpars_natv.csv',\n",
       " 'EDGE_COparameters_20180515.csv',\n",
       " 'EDGE_COparameters.csv',\n",
       " 'EDGE_COparameters_20170928.csv',\n",
       " 'EDGE_COparameters_20180604.csv',\n",
       " 'EDGE_COparameters_20180521.csv',\n",
       " 'edge_coflux_natv.csv',\n",
       " 'edge_coobs_de20.csv',\n",
       " 'edge_coobs_d20.csv',\n",
       " 'edge_coobs_e20.csv',\n",
       " 'edge_coflux_e20.csv',\n",
       " 'edge_coobs_de10.csv',\n",
       " 'edge_coflux_smo7.csv',\n",
       " 'edge_coflux_smo6.csv',\n",
       " 'edge_wise.csv',\n",
       " 'edge_nsa.csv',\n",
       " 'edge_ned.csv',\n",
       " 'edge_rdist.csv',\n",
       " 'edge_leda.csv',\n",
       " 'edge_califa.csv',\n",
       " 'CALIFAid.csv',\n",
       " 'DETableFinal.csv',\n",
       " 'QCflags_std_V1200_DR3.csv',\n",
       " 'QCflags_std_V500_DR3.csv',\n",
       " 'table2.csv',\n",
       " 'table1.csv',\n",
       " 'califa_inter.csv',\n",
       " 'NGC4047.comom_smo7.hdf5',\n",
       " 'rprof_de20_smo.csv',\n",
       " 'rprof_smo7_smo.csv',\n",
       " 'bb_smo7_fixvd_dilmsk_freepa.csv',\n",
       " 'bb_smo5_fixvd_bbmsk_freepa.csv',\n",
       " 'bb_smo7_fixvd_dilmsk.csv',\n",
       " 'bb_natv_fitvd_dilmsk.csv',\n",
       " 'bb_natv_fixvd_dilmsk_freepa.csv',\n",
       " 'bb_natv_fitvd_bbmsk_freepa.csv',\n",
       " 'bb_smo7_fitvd_dilmsk.csv',\n",
       " 'bb_natv_fixvd_dilmsk.csv',\n",
       " 'bb_smo7_fixvd_bbmsk_freepa.csv',\n",
       " 'bb_smo5_fitvd_bbmsk.csv',\n",
       " 'bb_natv_fitvd_dilmsk_freepa.csv',\n",
       " 'bb_smo7_fitvd_dilmsk_freepa.csv',\n",
       " 'bb_smo5_fixvd_bbmsk.csv',\n",
       " 'bb_smo5_fixvd_dilmsk.csv',\n",
       " 'bb_natv_fitvd_bbmsk.csv',\n",
       " 'bb_smo7_fitvd_bbmsk.csv',\n",
       " 'bb_smo7_fitvd_bbmsk_freepa.csv',\n",
       " 'bb_natv_fixvd_bbmsk_freepa.csv',\n",
       " 'bb_natv_fixvd_bbmsk.csv',\n",
       " 'bb_smo7_fixvd_bbmsk.csv',\n",
       " 'bb_smo5_fitvd_dilmsk_freepa.csv',\n",
       " 'bb_smo5_fixvd_dilmsk_freepa.csv',\n",
       " 'bb_smo5_fitvd_dilmsk.csv',\n",
       " 'bb_smo5_fitvd_bbmsk_freepa.csv']"
      ]
     },
     "execution_count": 3,
     "metadata": {},
     "output_type": "execute_result"
    }
   ],
   "source": [
    "edge_pydb.util.listfiles()"
   ]
  },
  {
   "cell_type": "code",
   "execution_count": 52,
   "metadata": {},
   "outputs": [],
   "source": [
    "data.table.show_in_browser()"
   ]
  },
  {
   "cell_type": "code",
   "execution_count": 29,
   "metadata": {},
   "outputs": [],
   "source": [
    "data = EdgeTable('NGC4047.pipe3d.hdf5', path='ELINES_rg')"
   ]
  },
  {
   "cell_type": "code",
   "execution_count": 18,
   "metadata": {},
   "outputs": [
    {
     "ename": "FileNotFoundError",
     "evalue": "Cannot find the specified file: edge.comom_smo7.hdf5",
     "output_type": "error",
     "traceback": [
      "\u001b[0;31m---------------------------------------------------------------------------\u001b[0m",
      "\u001b[0;31mFileNotFoundError\u001b[0m                         Traceback (most recent call last)",
      "\u001b[0;32m<ipython-input-18-3b79dee0fa6b>\u001b[0m in \u001b[0;36m<module>\u001b[0;34m\u001b[0m\n\u001b[0;32m----> 1\u001b[0;31m \u001b[0msmo\u001b[0m \u001b[0;34m=\u001b[0m \u001b[0mEdgeTable\u001b[0m\u001b[0;34m(\u001b[0m\u001b[0;34m'edge.comom_smo7.hdf5'\u001b[0m\u001b[0;34m,\u001b[0m \u001b[0mpath\u001b[0m\u001b[0;34m=\u001b[0m\u001b[0;34m'smo.__table_column_meta__'\u001b[0m\u001b[0;34m)\u001b[0m\u001b[0;34m\u001b[0m\u001b[0;34m\u001b[0m\u001b[0m\n\u001b[0m\u001b[1;32m      2\u001b[0m \u001b[0;34m[\u001b[0m\u001b[0mstring\u001b[0m \u001b[0;32mfor\u001b[0m \u001b[0mstring\u001b[0m \u001b[0;32min\u001b[0m \u001b[0msmo\u001b[0m\u001b[0;34m[\u001b[0m\u001b[0;36m0\u001b[0m\u001b[0;34m]\u001b[0m\u001b[0;34m]\u001b[0m\u001b[0;34m\u001b[0m\u001b[0;34m\u001b[0m\u001b[0m\n",
      "\u001b[0;32m~/anaconda/envs/py3k/lib/python3.6/site-packages/edge_pydb/__init__.py\u001b[0m in \u001b[0;36m__init__\u001b[0;34m(self, file, path, cols, data, masked, names, dtype, meta, copy, rows, copy_indices, **kwargs)\u001b[0m\n\u001b[1;32m     16\u001b[0m                 \u001b[0mself\u001b[0m\u001b[0;34m.\u001b[0m\u001b[0mread\u001b[0m\u001b[0;34m(\u001b[0m\u001b[0mfile\u001b[0m\u001b[0;34m)\u001b[0m\u001b[0;34m\u001b[0m\u001b[0;34m\u001b[0m\u001b[0m\n\u001b[1;32m     17\u001b[0m             \u001b[0;32melif\u001b[0m \u001b[0mpath\u001b[0m\u001b[0;34m:\u001b[0m\u001b[0;34m\u001b[0m\u001b[0;34m\u001b[0m\u001b[0m\n\u001b[0;32m---> 18\u001b[0;31m                 \u001b[0mself\u001b[0m\u001b[0;34m.\u001b[0m\u001b[0mread\u001b[0m\u001b[0;34m(\u001b[0m\u001b[0mfile\u001b[0m\u001b[0;34m,\u001b[0m \u001b[0mpath\u001b[0m\u001b[0;34m)\u001b[0m\u001b[0;34m\u001b[0m\u001b[0;34m\u001b[0m\u001b[0m\n\u001b[0m\u001b[1;32m     19\u001b[0m             \u001b[0;32melse\u001b[0m\u001b[0;34m:\u001b[0m\u001b[0;34m\u001b[0m\u001b[0;34m\u001b[0m\u001b[0m\n\u001b[1;32m     20\u001b[0m                 \u001b[0;31m# no path specified with hdf5 file\u001b[0m\u001b[0;34m\u001b[0m\u001b[0;34m\u001b[0m\u001b[0;34m\u001b[0m\u001b[0m\n",
      "\u001b[0;32m~/anaconda/envs/py3k/lib/python3.6/site-packages/edge_pydb/__init__.py\u001b[0m in \u001b[0;36mread\u001b[0;34m(self, file, path)\u001b[0m\n\u001b[1;32m     41\u001b[0m                 \u001b[0mself\u001b[0m\u001b[0;34m.\u001b[0m\u001b[0mtable\u001b[0m \u001b[0;34m=\u001b[0m \u001b[0m_Table\u001b[0m\u001b[0;34m.\u001b[0m\u001b[0mread\u001b[0m\u001b[0;34m(\u001b[0m\u001b[0mutil\u001b[0m\u001b[0;34m.\u001b[0m\u001b[0mfetch\u001b[0m\u001b[0;34m(\u001b[0m\u001b[0mfile\u001b[0m\u001b[0;34m)\u001b[0m\u001b[0;34m,\u001b[0m \u001b[0mformat\u001b[0m\u001b[0;34m=\u001b[0m\u001b[0;34m'ascii.csv'\u001b[0m\u001b[0;34m)\u001b[0m\u001b[0;34m\u001b[0m\u001b[0;34m\u001b[0m\u001b[0m\n\u001b[1;32m     42\u001b[0m         \u001b[0;32melif\u001b[0m \u001b[0mpath\u001b[0m\u001b[0;34m:\u001b[0m\u001b[0;34m\u001b[0m\u001b[0;34m\u001b[0m\u001b[0m\n\u001b[0;32m---> 43\u001b[0;31m             \u001b[0mself\u001b[0m\u001b[0;34m.\u001b[0m\u001b[0mtable\u001b[0m \u001b[0;34m=\u001b[0m \u001b[0m_Table\u001b[0m\u001b[0;34m.\u001b[0m\u001b[0mread\u001b[0m\u001b[0;34m(\u001b[0m\u001b[0mutil\u001b[0m\u001b[0;34m.\u001b[0m\u001b[0mfetch\u001b[0m\u001b[0;34m(\u001b[0m\u001b[0mfile\u001b[0m\u001b[0;34m)\u001b[0m\u001b[0;34m,\u001b[0m \u001b[0mpath\u001b[0m\u001b[0;34m=\u001b[0m\u001b[0mpath\u001b[0m\u001b[0;34m)\u001b[0m\u001b[0;34m\u001b[0m\u001b[0;34m\u001b[0m\u001b[0m\n\u001b[0m\u001b[1;32m     44\u001b[0m         \u001b[0mself\u001b[0m\u001b[0;34m.\u001b[0m\u001b[0m__dict__\u001b[0m\u001b[0;34m.\u001b[0m\u001b[0mupdate\u001b[0m\u001b[0;34m(\u001b[0m\u001b[0mself\u001b[0m\u001b[0;34m.\u001b[0m\u001b[0mtable\u001b[0m\u001b[0;34m.\u001b[0m\u001b[0m__dict__\u001b[0m\u001b[0;34m)\u001b[0m\u001b[0;34m\u001b[0m\u001b[0;34m\u001b[0m\u001b[0m\n\u001b[1;32m     45\u001b[0m \u001b[0;34m\u001b[0m\u001b[0m\n",
      "\u001b[0;32m~/anaconda/envs/py3k/lib/python3.6/site-packages/edge_pydb/util.py\u001b[0m in \u001b[0;36mfetch\u001b[0;34m(names)\u001b[0m\n\u001b[1;32m    145\u001b[0m     \u001b[0;32melse\u001b[0m\u001b[0;34m:\u001b[0m\u001b[0;34m\u001b[0m\u001b[0;34m\u001b[0m\u001b[0m\n\u001b[1;32m    146\u001b[0m         \u001b[0;32mif\u001b[0m \u001b[0mnames\u001b[0m \u001b[0;32mnot\u001b[0m \u001b[0;32min\u001b[0m \u001b[0m_config\u001b[0m\u001b[0;34m.\u001b[0m\u001b[0mkeys\u001b[0m\u001b[0;34m(\u001b[0m\u001b[0;34m)\u001b[0m\u001b[0;34m:\u001b[0m\u001b[0;34m\u001b[0m\u001b[0;34m\u001b[0m\u001b[0m\n\u001b[0;32m--> 147\u001b[0;31m             \u001b[0;32mraise\u001b[0m \u001b[0mFileNotFoundError\u001b[0m\u001b[0;34m(\u001b[0m\u001b[0;34m\"Cannot find the specified file: %s\"\u001b[0m \u001b[0;34m%\u001b[0m \u001b[0mnames\u001b[0m\u001b[0;34m)\u001b[0m\u001b[0;34m\u001b[0m\u001b[0;34m\u001b[0m\u001b[0m\n\u001b[0m\u001b[1;32m    148\u001b[0m         \u001b[0;31m# if dir:\u001b[0m\u001b[0;34m\u001b[0m\u001b[0;34m\u001b[0m\u001b[0;34m\u001b[0m\u001b[0m\n\u001b[1;32m    149\u001b[0m         \u001b[0;31m#     return _os.path.abspath(_os.path.dirname(names))\u001b[0m\u001b[0;34m\u001b[0m\u001b[0;34m\u001b[0m\u001b[0;34m\u001b[0m\u001b[0m\n",
      "\u001b[0;31mFileNotFoundError\u001b[0m: Cannot find the specified file: edge.comom_smo7.hdf5"
     ]
    }
   ],
   "source": [
    "smo = EdgeTable('edge.comom_smo7.hdf5', path='smo.__table_column_meta__')\n",
    "[string for string in smo[0]]"
   ]
  },
  {
   "cell_type": "code",
   "execution_count": 10,
   "metadata": {},
   "outputs": [
    {
     "data": {
      "text/plain": [
       "['Name',\n",
       " 'ix',\n",
       " 'iy',\n",
       " 'ra_off',\n",
       " 'dec_off',\n",
       " 'rad_arc',\n",
       " 'azi_ang',\n",
       " 'Havel_rg',\n",
       " 'Vdisp_rg',\n",
       " '[OII]3727_rg',\n",
       " '[OIII]5007_rg',\n",
       " '[OIII]4959_rg',\n",
       " 'Hbeta_rg',\n",
       " 'Halpha_rg',\n",
       " '[NII]6583_rg',\n",
       " '[NII]6548_rg',\n",
       " '[SII]6731_rg',\n",
       " '[SII]6717_rg',\n",
       " 'e_[OII]3727_rg',\n",
       " 'e_[OIII]5007_rg',\n",
       " 'e_[OIII]4959_rg',\n",
       " 'e_Hbeta_rg',\n",
       " 'e_Halpha_rg',\n",
       " 'e_[NII]6583_rg',\n",
       " 'e_[NII]6548_rg',\n",
       " 'e_[SII]6731_rg',\n",
       " 'e_[SII]6717_rg',\n",
       " 'sigsfr_rg',\n",
       " 'AHa_sigsfr_rg']"
      ]
     },
     "execution_count": 10,
     "metadata": {},
     "output_type": "execute_result"
    }
   ],
   "source": [
    "name = data.colnames\n",
    "name"
   ]
  },
  {
   "cell_type": "code",
   "execution_count": 12,
   "metadata": {},
   "outputs": [
    {
     "data": {
      "text/plain": [
       "'dec offset from LEDA center'"
      ]
     },
     "execution_count": 12,
     "metadata": {},
     "output_type": "execute_result"
    }
   ],
   "source": [
    "data[name[4]].description"
   ]
  },
  {
   "cell_type": "code",
   "execution_count": null,
   "metadata": {},
   "outputs": [],
   "source": [
    "def output(data):\n",
    "    retval = []\n",
    "    for string in data:\n",
    "        retval.append()"
   ]
  },
  {
   "cell_type": "code",
   "execution_count": 54,
   "metadata": {},
   "outputs": [],
   "source": [
    "def file_info(file=None):\n",
    "    if not file:\n",
    "        files = edge_pydb.util.listfiles()\n",
    "    files = [file]\n",
    "    info = {}\n",
    "    for fp in files:\n",
    "        info[fp] = {}\n",
    "        if fp.endswith('.hdf5'):\n",
    "            f = h5py.File(edge_pydb.util.fetch(fp), 'r')\n",
    "            keys = list(f.keys())\n",
    "            print(keys)\n",
    "            for k in keys:\n",
    "                if not k.endswith('.__table_column_meta__'):\n",
    "                    info[fp][k] = []\n",
    "                    tab = EdgeTable(fp, path=k)\n",
    "                    names = tab.colnames\n",
    "                    info[fp][k] = [(col, tab[col].unit, tab[col].description) for col in names]\n",
    "        elif fp.endswith('.csv'):\n",
    "            tab = EdgeTable(fp)\n",
    "            names = tab.colnames\n",
    "            info[fp] = [(col, tab[col].description) for col in names]\n",
    "    return info"
   ]
  },
  {
   "cell_type": "code",
   "execution_count": 53,
   "metadata": {},
   "outputs": [
    {
     "data": {
      "text/plain": [
       "<EdgeTable length=126>\n",
       "       name        dtype     unit   format                      description                       n_bad\n",
       "----------------- ------- --------- ------ ------------------------------------------------------ -----\n",
       "             Name   str13                                                             Galaxy Name     0\n",
       "     coRactr_smo7 float64       deg    .4f                      Reference R.A. of smo7 CARMA cube     0\n",
       "     coDectr_smo7 float64       deg    .4f                      Reference Dec. of smo7 CARMA cube     0\n",
       "    coCtrint_smo7 float64  K km / s    .3f               Unmasked CO intensity at reference pixel     0\n",
       "    coNomask_smo7 float64 Jy km / s    .3f                        co flux from unmasked smo7 cube     0\n",
       "   coeNomask_smo7 float64 Jy km / s    .3f            co flux uncertainty from unmasked smo7 cube     0\n",
       "  coNomaskDv_smo7 float64    km / s    .3f               co velocity width for unmasked smo7 cube     0\n",
       "   coDilated_smo7 float64 Jy km / s    .3f                  co flux from dilated-masked smo7 cube    20\n",
       "  coeDilated_smo7 float64 Jy km / s    .3f      co flux uncertainty from dilated-masked smo7 cube    20\n",
       "    coSmooth_smo7 float64 Jy km / s    .3f                 co flux from smoothed-masked smo7 cube    20\n",
       "   coeSmooth_smo7 float64 Jy km / s    .3f     co flux uncertainty from smoothed-masked smo7 cube    20\n",
       "  coSmoothDv_smo7 float64    km / s    .3f          co velocity width for smooth-masked smo7 cube    20\n",
       "    coMask2d_smo7 float64 Jy km / s    .3f                       co flux from 2D masked smo7 cube    20\n",
       "   coeMask2d_smo7 float64 Jy km / s    .3f           co flux uncertainty from 2D masked smo7 cube    20\n",
       "    coSNRmax_smo7 float64              .3f                         Maximum SNR of co in smo7 cube     0\n",
       "   coSNR4pix_smo7 float64              .3f          Number of XY pixels with co peak Tb > 4 sigma     0\n",
       "   coSNR5pix_smo7 float64              .3f          Number of XY pixels with co peak Tb > 5 sigma     0\n",
       "  cottNomask_smo7 float64 Jy km / s    .3f                      13co flux from unmasked smo7 cube     0\n",
       " cotteNomask_smo7 float64 Jy km / s    .3f          13co flux uncertainty from unmasked smo7 cube     0\n",
       "cottNomaskDv_smo7 float64    km / s    .3f             13co velocity width for unmasked smo7 cube     0\n",
       " cottDilated_smo7 float64 Jy km / s    .3f                13co flux from dilated-masked smo7 cube    96\n",
       "cotteDilated_smo7 float64 Jy km / s    .3f    13co flux uncertainty from dilated-masked smo7 cube    96\n",
       "  cottSmooth_smo7 float64 Jy km / s    .3f               13co flux from smoothed-masked smo7 cube   106\n",
       " cotteSmooth_smo7 float64 Jy km / s    .3f   13co flux uncertainty from smoothed-masked smo7 cube   106\n",
       "cottSmoothDv_smo7 float64    km / s    .3f        13co velocity width for smooth-masked smo7 cube   106\n",
       " cottMk12_di_smo7 float64 Jy km / s    .3f               13co flux in 12co dilated mask smo7 cube    20\n",
       "cotteMk12_di_smo7 float64 Jy km / s    .3f   13co flux uncertainty in 12co dilated mask smo7 cube    20\n",
       " cottMk12_sm_smo7 float64 Jy km / s    .3f              13co flux in 12co smoothed mask smo7 cube    20\n",
       "cotteMk12_sm_smo7 float64 Jy km / s    .3f  13co flux uncertainty in 12co smoothed mask smo7 cube    20\n",
       " cottMk12_2d_smo7 float64 Jy km / s    .3f             13co flux in 12co projected mask smo7 cube    20\n",
       "cotteMk12_2d_smo7 float64 Jy km / s    .3f 13co flux uncertainty in 12co projected mask smo7 cube    20\n",
       "  cottSNRmax_smo7 float64              .3f                       Maximum SNR of 13co in smo7 cube     0\n",
       " cottSNR4pix_smo7 float64              .3f        Number of XY pixels with 13co peak Tb > 4 sigma     0\n",
       " cottSNR5pix_smo7 float64              .3f        Number of XY pixels with 13co peak Tb > 5 sigma     0"
      ]
     },
     "execution_count": 53,
     "metadata": {},
     "output_type": "execute_result"
    }
   ],
   "source": [
    "tab = EdgeTable('edge_coflux_smo7.csv')\n",
    "name = tab.colnames\n",
    "tab.info"
   ]
  },
  {
   "cell_type": "code",
   "execution_count": null,
   "metadata": {},
   "outputs": [],
   "source": [
    "edge_pydb.util.fetch('edge_coflux_smo7.csv')"
   ]
  },
  {
   "cell_type": "code",
   "execution_count": null,
   "metadata": {},
   "outputs": [],
   "source": [
    "tab.columns"
   ]
  },
  {
   "cell_type": "code",
   "execution_count": null,
   "metadata": {},
   "outputs": [],
   "source": [
    "type(k)"
   ]
  },
  {
   "cell_type": "code",
   "execution_count": null,
   "metadata": {},
   "outputs": [],
   "source": [
    "name = tab.colnames"
   ]
  },
  {
   "cell_type": "code",
   "execution_count": null,
   "metadata": {},
   "outputs": [],
   "source": [
    "tab[name[1]]."
   ]
  },
  {
   "cell_type": "code",
   "execution_count": 55,
   "metadata": {},
   "outputs": [
    {
     "name": "stdout",
     "output_type": "stream",
     "text": [
      "['dil', 'dil.__table_column_meta__', 'smo', 'smo.__table_column_meta__']\n"
     ]
    },
    {
     "data": {
      "text/plain": [
       "{'NGC4047.comom_smo7.hdf5': {'dil': [('Name', None, 'Galaxy Name'),\n",
       "   ('ix', None, '0-based pixel index in x direction'),\n",
       "   ('iy', None, '0-based pixel index in y direction'),\n",
       "   ('ra_off', Unit(\"deg\"), 'ra offset from LEDA center'),\n",
       "   ('dec_off', Unit(\"deg\"), 'dec offset from LEDA center'),\n",
       "   ('rad_arc', Unit(\"arcsec\"), 'radius based on LEDA'),\n",
       "   ('azi_ang', Unit(\"deg\"), 'azang based on LEDA'),\n",
       "   ('emom0max', Unit(\"K km / s\"), 'error in mom0 assuming 200 km/s window'),\n",
       "   ('mom0', Unit(\"K km / s\"), 'integrated intensity using dil mask'),\n",
       "   ('emom0', Unit(\"K km / s\"), 'error in mom0 assuming dil mask'),\n",
       "   ('mom1', Unit(\"km / s\"), 'intensity wgtd mean velocity using dil mask'),\n",
       "   ('emom1', Unit(\"km / s\"), 'error in mom1 assuming dil mask'),\n",
       "   ('mom2', Unit(\"km / s\"), 'intensity wgtd vel disp using dil mask'),\n",
       "   ('emom2', Unit(\"km / s\"), 'error in mom2 assuming dil mask'),\n",
       "   ('snrpk', Unit(dimensionless), 'peak signal to noise ratio'),\n",
       "   ('sigmol',\n",
       "    Unit(\"solMass / pc2\"),\n",
       "    'apparent H2+He surf density not deprojected'),\n",
       "   ('e_sigmol', Unit(\"solMass / pc2\"), 'error in sigmol not deprojected')],\n",
       "  'smo': [('Name', None, 'Galaxy Name'),\n",
       "   ('ix', None, '0-based pixel index in x direction'),\n",
       "   ('iy', None, '0-based pixel index in y direction'),\n",
       "   ('ra_off', Unit(\"deg\"), 'ra offset from LEDA center'),\n",
       "   ('dec_off', Unit(\"deg\"), 'dec offset from LEDA center'),\n",
       "   ('rad_arc', Unit(\"arcsec\"), 'radius based on LEDA'),\n",
       "   ('azi_ang', Unit(\"deg\"), 'azang based on LEDA'),\n",
       "   ('emom0max', Unit(\"K km / s\"), 'error in mom0 assuming 200 km/s window'),\n",
       "   ('mom0', Unit(\"K km / s\"), 'integrated intensity using smo mask'),\n",
       "   ('emom0', Unit(\"K km / s\"), 'error in mom0 assuming smo mask'),\n",
       "   ('sigmol',\n",
       "    Unit(\"solMass / pc2\"),\n",
       "    'apparent H2+He surf density not deprojected'),\n",
       "   ('e_sigmol', Unit(\"solMass / pc2\"), 'error in sigmol not deprojected')]}}"
      ]
     },
     "execution_count": 55,
     "metadata": {},
     "output_type": "execute_result"
    }
   ],
   "source": [
    "file_info('NGC4047.comom_smo7.hdf5')"
   ]
  },
  {
   "cell_type": "code",
   "execution_count": 50,
   "metadata": {},
   "outputs": [
    {
     "data": {
      "text/plain": [
       "['dil', 'dil.__table_column_meta__', 'smo', 'smo.__table_column_meta__']"
      ]
     },
     "execution_count": 50,
     "metadata": {},
     "output_type": "execute_result"
    }
   ],
   "source": [
    "f = h5py.File(edge_pydb.util.fetch('NGC4047.comom_smo7.hdf5'), 'r')\n",
    "list(f.keys())"
   ]
  },
  {
   "cell_type": "code",
   "execution_count": 42,
   "metadata": {},
   "outputs": [
    {
     "data": {
      "text/plain": [
       "<KeysViewHDF5 ['data', 'data.__table_column_meta__']>"
      ]
     },
     "execution_count": 42,
     "metadata": {},
     "output_type": "execute_result"
    }
   ],
   "source": [
    "keys"
   ]
  },
  {
   "cell_type": "code",
   "execution_count": null,
   "metadata": {},
   "outputs": [],
   "source": []
  }
 ],
 "metadata": {
  "kernelspec": {
   "display_name": "Python 3",
   "language": "python",
   "name": "python3"
  },
  "language_info": {
   "codemirror_mode": {
    "name": "ipython",
    "version": 3
   },
   "file_extension": ".py",
   "mimetype": "text/x-python",
   "name": "python",
   "nbconvert_exporter": "python",
   "pygments_lexer": "ipython3",
   "version": "3.6.8"
  }
 },
 "nbformat": 4,
 "nbformat_minor": 2
}
