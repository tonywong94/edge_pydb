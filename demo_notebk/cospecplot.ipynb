{
 "cells": [
  {
   "cell_type": "code",
   "execution_count": 5,
   "metadata": {
    "scrolled": true
   },
   "outputs": [],
   "source": [
    "import numpy as np\n",
    "import matplotlib.pyplot as plt\n",
    "from astropy.table import Table, unique\n",
    "from matplotlib.ticker import MultipleLocator\n",
    "from matplotlib.backends.backend_pdf import PdfPages\n",
    "import edge_pydb"
   ]
  },
  {
   "cell_type": "markdown",
   "metadata": {},
   "source": [
    "## Plot the CO spectra smoothed to 7\".  \n",
    "* Light gray: no masking\n",
    "* Blue: Dilated masking\n",
    "* Red: Smooth masking\n",
    "* Black: 2D projection of smooth mask"
   ]
  },
  {
   "cell_type": "code",
   "execution_count": 6,
   "metadata": {
    "scrolled": true
   },
   "outputs": [],
   "source": [
    "line = 'co'\n",
    "momtypes = ['Nomask', 'Dilated', 'Smooth', 'Mask2d']\n",
    "colors   = ['silver', 'blue', 'red', 'black']\n",
    "nx=7\n",
    "ny=5"
   ]
  },
  {
   "cell_type": "code",
   "execution_count": 7,
   "metadata": {
    "scrolled": false
   },
   "outputs": [
    {
     "ename": "NameError",
     "evalue": "name 'egde_pydb' is not defined",
     "output_type": "error",
     "traceback": [
      "\u001b[0;31m---------------------------------------------------------------------------\u001b[0m",
      "\u001b[0;31mNameError\u001b[0m                                 Traceback (most recent call last)",
      "\u001b[0;32m<ipython-input-7-569dcf1c5812>\u001b[0m in \u001b[0;36m<module>\u001b[0;34m\u001b[0m\n\u001b[0;32m----> 1\u001b[0;31m \u001b[0mspectab\u001b[0m \u001b[0;34m=\u001b[0m \u001b[0mTable\u001b[0m\u001b[0;34m.\u001b[0m\u001b[0mread\u001b[0m\u001b[0;34m(\u001b[0m\u001b[0megde_pydb\u001b[0m\u001b[0;34m.\u001b[0m\u001b[0mgetfiles\u001b[0m\u001b[0;34m(\u001b[0m\u001b[0;34m'cospec_smo7.csv'\u001b[0m\u001b[0;34m)\u001b[0m\u001b[0;34m,\u001b[0m \u001b[0mformat\u001b[0m\u001b[0;34m=\u001b[0m\u001b[0;34m'ascii.ecsv'\u001b[0m\u001b[0;34m)\u001b[0m\u001b[0;34m\u001b[0m\u001b[0;34m\u001b[0m\u001b[0m\n\u001b[0m\u001b[1;32m      2\u001b[0m \u001b[0mgallist\u001b[0m \u001b[0;34m=\u001b[0m \u001b[0munique\u001b[0m\u001b[0;34m(\u001b[0m\u001b[0mspectab\u001b[0m\u001b[0;34m,\u001b[0m \u001b[0mkeys\u001b[0m\u001b[0;34m=\u001b[0m\u001b[0;34m'Name'\u001b[0m\u001b[0;34m)\u001b[0m\u001b[0;34m.\u001b[0m\u001b[0mcolumns\u001b[0m\u001b[0;34m[\u001b[0m\u001b[0;36m0\u001b[0m\u001b[0;34m]\u001b[0m\u001b[0;34m.\u001b[0m\u001b[0mtolist\u001b[0m\u001b[0;34m(\u001b[0m\u001b[0;34m)\u001b[0m\u001b[0;34m\u001b[0m\u001b[0;34m\u001b[0m\u001b[0m\n\u001b[1;32m      3\u001b[0m \u001b[0mprint\u001b[0m\u001b[0;34m(\u001b[0m\u001b[0;34m'Number of galaxies: {}'\u001b[0m\u001b[0;34m.\u001b[0m\u001b[0mformat\u001b[0m\u001b[0;34m(\u001b[0m\u001b[0mlen\u001b[0m\u001b[0;34m(\u001b[0m\u001b[0mgallist\u001b[0m\u001b[0;34m)\u001b[0m\u001b[0;34m)\u001b[0m\u001b[0;34m)\u001b[0m\u001b[0;34m\u001b[0m\u001b[0;34m\u001b[0m\u001b[0m\n\u001b[1;32m      4\u001b[0m \u001b[0mpages\u001b[0m \u001b[0;34m=\u001b[0m \u001b[0mint\u001b[0m\u001b[0;34m(\u001b[0m\u001b[0mnp\u001b[0m\u001b[0;34m.\u001b[0m\u001b[0mceil\u001b[0m\u001b[0;34m(\u001b[0m\u001b[0mfloat\u001b[0m\u001b[0;34m(\u001b[0m\u001b[0mlen\u001b[0m\u001b[0;34m(\u001b[0m\u001b[0mgallist\u001b[0m\u001b[0;34m)\u001b[0m\u001b[0;34m)\u001b[0m \u001b[0;34m/\u001b[0m \u001b[0;34m(\u001b[0m\u001b[0mnx\u001b[0m\u001b[0;34m*\u001b[0m\u001b[0mny\u001b[0m\u001b[0;34m)\u001b[0m\u001b[0;34m)\u001b[0m\u001b[0;34m)\u001b[0m\u001b[0;34m\u001b[0m\u001b[0;34m\u001b[0m\u001b[0m\n\u001b[1;32m      5\u001b[0m \u001b[0;34m\u001b[0m\u001b[0m\n",
      "\u001b[0;31mNameError\u001b[0m: name 'egde_pydb' is not defined"
     ]
    }
   ],
   "source": [
    "spectab = Table.read(egde_pydb.getfiles('cospec_smo7.csv'), format='ascii.ecsv')\n",
    "gallist = unique(spectab, keys='Name').columns[0].tolist()\n",
    "print('Number of galaxies: {}'.format(len(gallist)))\n",
    "pages = int(np.ceil(float(len(gallist)) / (nx*ny)))\n",
    "\n",
    "with PdfPages('cospec_smo7.pdf') as pdf:\n",
    "\n",
    "    for num in range(0,pages):\n",
    "        aa = nx*ny*num\n",
    "        bb = nx*ny+aa\n",
    "        sublist = gallist[aa:bb]\n",
    "\n",
    "        fig = plt.figure(0)\n",
    "        fig.set_size_inches(nx*4.5, ny*4.)\n",
    "\n",
    "        for idx, gal in enumerate(sublist):\n",
    "            galrows = spectab[spectab['Name']==gal]\n",
    "            row, col = divmod(idx,nx)\n",
    "            ax = plt.subplot2grid((ny,nx),(row,col))\n",
    "            ax.axhline(y=0, xmin=0, xmax=1, color='black', ls=':')\n",
    "\n",
    "            vel = galrows['coVlsr_smo7']\n",
    "            for i, typ in enumerate(momtypes):\n",
    "                flux   = galrows[line+typ+'Spec_smo7']\n",
    "                eflux  = galrows[line+typ+'Unc_smo7']\n",
    "                spec  = ax.step(vel, flux, color=colors[i], where='mid')\n",
    "                if typ == 'Dilated' or typ == 'Smooth':\n",
    "                    ax.fill_between(vel, flux-eflux, flux+eflux, \n",
    "                                    step='mid',facecolor=colors[i], alpha=0.6)\n",
    "                ax.set_xlim(vel[0], vel[-1])\n",
    "                plt.tick_params(axis='x', labelsize='medium')\n",
    "                plt.tick_params(axis='y', labelsize='medium')\n",
    "                start, end = ax.get_xlim()\n",
    "                if (end-start)>1000:\n",
    "                    majorLocator = MultipleLocator(400)\n",
    "                else:\n",
    "                    majorLocator = MultipleLocator(200)\n",
    "                ax.xaxis.set_major_locator(majorLocator)\n",
    "            ax.set_title(gal, fontsize='large')\n",
    "\n",
    "        fig.text(0.5, 0.09, 'VELO-LSR (km/s)', ha='center',\n",
    "                    fontsize='xx-large')\n",
    "        fig.text(0.1, 0.5, 'Flux (Jy)', va='center', rotation='vertical', \n",
    "                    fontsize='xx-large')\n",
    "        pdf.savefig(bbox_inches = 'tight', pad_inches=0.1)\n",
    "        plt.show()\n",
    "        plt.close()"
   ]
  },
  {
   "cell_type": "code",
   "execution_count": null,
   "metadata": {
    "scrolled": false
   },
   "outputs": [],
   "source": []
  }
 ],
 "metadata": {
  "kernelspec": {
   "display_name": "Python 3",
   "language": "python",
   "name": "python3"
  },
  "language_info": {
   "codemirror_mode": {
    "name": "ipython",
    "version": 3
   },
   "file_extension": ".py",
   "mimetype": "text/x-python",
   "name": "python",
   "nbconvert_exporter": "python",
   "pygments_lexer": "ipython3",
   "version": "3.6.8"
  }
 },
 "nbformat": 4,
 "nbformat_minor": 2
}
