{
 "cells": [
  {
   "cell_type": "code",
   "execution_count": 1,
   "metadata": {
    "scrolled": true
   },
   "outputs": [],
   "source": [
    "import numpy as np\n",
    "import matplotlib.pyplot as plt\n",
    "from astropy.table import Table, unique, Column\n",
    "from matplotlib.ticker import MultipleLocator\n",
    "from matplotlib.backends.backend_pdf import PdfPages\n",
    "from edge_pydb import EdgeTable"
   ]
  },
  {
   "cell_type": "markdown",
   "metadata": {},
   "source": [
    "## Plot the CO spectra smoothed to 7\".  \n",
    "* Light gray: no masking\n",
    "* Blue: Dilated masking\n",
    "* Red: Smooth masking\n",
    "* Black: 2D projection of smooth mask"
   ]
  },
  {
   "cell_type": "code",
   "execution_count": 2,
   "metadata": {
    "scrolled": true
   },
   "outputs": [],
   "source": [
    "line = 'co'\n",
    "momtypes = ['Nomask', 'Dilated', 'Smooth', 'Mask2d']\n",
    "colors   = ['silver', 'blue', 'red', 'black']\n",
    "nx=7\n",
    "ny=5\n",
    "showplot = False"
   ]
  },
  {
   "cell_type": "code",
   "execution_count": 3,
   "metadata": {},
   "outputs": [
    {
     "name": "stdout",
     "output_type": "stream",
     "text": [
      "Number of galaxies: 126\n"
     ]
    }
   ],
   "source": [
    "spectab = EdgeTable('cospec_smo7.csv')\n",
    "# Currently unique function works only on Table, not EdgeTable\n",
    "gallist = unique(spectab.table, keys='Name').columns[0].tolist()\n",
    "print('Number of galaxies: {}'.format(len(gallist)))\n",
    "pages = int(np.ceil(float(len(gallist)) / (nx*ny)))"
   ]
  },
  {
   "cell_type": "code",
   "execution_count": 4,
   "metadata": {},
   "outputs": [
    {
     "name": "stdout",
     "output_type": "stream",
     "text": [
      "Done with page 1\n",
      "Done with page 2\n",
      "Done with page 3\n",
      "Done with page 4\n"
     ]
    }
   ],
   "source": [
    "with PdfPages('cospec_smo7.pdf') as pdf:\n",
    "\n",
    "    for num in range(0,pages):\n",
    "        aa = nx*ny*num\n",
    "        bb = nx*ny+aa\n",
    "        sublist = gallist[aa:bb]\n",
    "\n",
    "        fig = plt.figure(0)\n",
    "        fig.set_size_inches(nx*4.5, ny*4.)\n",
    "\n",
    "        for idx, gal in enumerate(sublist):\n",
    "            galrows = spectab[spectab['Name']==gal]\n",
    "            row, col = divmod(idx,nx)\n",
    "            ax = plt.subplot2grid((ny,nx),(row,col))\n",
    "            ax.axhline(y=0, xmin=0, xmax=1, color='black', ls=':')\n",
    "\n",
    "            vel = galrows['coVlsr_smo7']\n",
    "            for i, typ in enumerate(momtypes):\n",
    "                flux   = galrows[line+typ+'Spec_smo7']\n",
    "                eflux  = galrows[line+typ+'Unc_smo7']\n",
    "                spec  = ax.step(vel, flux, color=colors[i], where='mid')\n",
    "                if typ == 'Dilated' or typ == 'Smooth':\n",
    "                    ax.fill_between(vel, flux-eflux, flux+eflux, \n",
    "                                    step='mid',facecolor=colors[i], alpha=0.6)\n",
    "                ax.set_xlim(vel[0], vel[-1])\n",
    "                plt.tick_params(axis='x', labelsize='medium')\n",
    "                plt.tick_params(axis='y', labelsize='medium')\n",
    "                start, end = ax.get_xlim()\n",
    "                if (end-start)>1000:\n",
    "                    majorLocator = MultipleLocator(400)\n",
    "                else:\n",
    "                    majorLocator = MultipleLocator(200)\n",
    "                ax.xaxis.set_major_locator(majorLocator)\n",
    "            ax.set_title(gal, fontsize='large')\n",
    "\n",
    "        fig.text(0.5, 0.09, 'VELO-LSR (km/s)', ha='center',\n",
    "                    fontsize='xx-large')\n",
    "        fig.text(0.1, 0.5, 'Flux (Jy)', va='center', rotation='vertical', \n",
    "                    fontsize='xx-large')\n",
    "        pdf.savefig(bbox_inches = 'tight', pad_inches=0.1)\n",
    "        if showplot:\n",
    "            plt.show()\n",
    "        else:\n",
    "            print('Done with page',num+1)\n",
    "        plt.close()"
   ]
  },
  {
   "cell_type": "code",
   "execution_count": null,
   "metadata": {
    "scrolled": false
   },
   "outputs": [],
   "source": []
  }
 ],
 "metadata": {
  "kernelspec": {
   "display_name": "Python 3",
   "language": "python",
   "name": "python3"
  },
  "language_info": {
   "codemirror_mode": {
    "name": "ipython",
    "version": 3
   },
   "file_extension": ".py",
   "mimetype": "text/x-python",
   "name": "python",
   "nbconvert_exporter": "python",
   "pygments_lexer": "ipython3",
   "version": "3.6.10"
  }
 },
 "nbformat": 4,
 "nbformat_minor": 2
}
