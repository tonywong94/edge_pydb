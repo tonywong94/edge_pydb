{
 "cells": [
  {
   "cell_type": "code",
   "execution_count": 1,
   "metadata": {
    "scrolled": true
   },
   "outputs": [],
   "source": [
    "import numpy as np\n",
    "import matplotlib.pyplot as plt\n",
    "from astropy.table import Table, unique\n",
    "from matplotlib.ticker import MultipleLocator\n",
    "from matplotlib.backends.backend_pdf import PdfPages\n",
    "from edge_pydb import EdgeTable"
   ]
  },
  {
   "cell_type": "markdown",
   "metadata": {},
   "source": [
    "## Plot the single-dish HI spectra.\n",
    "* Blue: EDGE GBT\n",
    "* Red: Springob ALFALFA\n",
    "* Orange: Masters GBT"
   ]
  },
  {
   "cell_type": "code",
   "execution_count": 2,
   "metadata": {
    "scrolled": true
   },
   "outputs": [],
   "source": [
    "sources = ['edge2015', 'shg2005', 'm2014']\n",
    "colors   = ['blue', 'red', 'orange']\n",
    "nx=7\n",
    "ny=5\n",
    "showplot = False"
   ]
  },
  {
   "cell_type": "code",
   "execution_count": 3,
   "metadata": {},
   "outputs": [
    {
     "name": "stdout",
     "output_type": "stream",
     "text": [
      "Number of galaxies: 161\n"
     ]
    }
   ],
   "source": [
    "spectab = EdgeTable('edge_hispectra.csv')\n",
    "# Currently unique function works only on Table, not EdgeTable\n",
    "gallist = unique(spectab.table, keys='Name').columns[0].tolist()\n",
    "print('Number of galaxies: {}'.format(len(gallist)))\n",
    "pages = int(np.ceil(float(len(gallist)) / (nx*ny)))"
   ]
  },
  {
   "cell_type": "code",
   "execution_count": null,
   "metadata": {
    "scrolled": false
   },
   "outputs": [
    {
     "name": "stdout",
     "output_type": "stream",
     "text": [
      "Done with page 1\n",
      "Done with page 2\n",
      "Done with page 3\n"
     ]
    }
   ],
   "source": [
    "with PdfPages('hispec_sdish.pdf') as pdf:\n",
    "\n",
    "    for num in range(0,pages):\n",
    "        aa = nx*ny*num\n",
    "        bb = nx*ny+aa\n",
    "        sublist = gallist[aa:bb]\n",
    "\n",
    "        fig = plt.figure(0)\n",
    "        fig.set_size_inches(nx*4.5, ny*4.)\n",
    "\n",
    "        for idx, gal in enumerate(sublist):\n",
    "            galrows = spectab[spectab['Name']==gal]\n",
    "            row, col = divmod(idx,nx)\n",
    "            ax = plt.subplot2grid((ny,nx),(row,col))\n",
    "            ax.axhline(y=0, xmin=0, xmax=1, color='black', ls=':')\n",
    "\n",
    "            vel = galrows['vbary']\n",
    "            flux   = galrows['hiflux']\n",
    "            src = galrows['source'][0]\n",
    "            if src in sources:\n",
    "                color = colors[sources.index(src)]\n",
    "            else:\n",
    "                color = 'magenta'\n",
    "            spec  = ax.step(vel, flux, color=color, where='mid')\n",
    "            ax.set_xlim(vel[0], vel[-1])\n",
    "            plt.tick_params(axis='x', labelsize='medium')\n",
    "            plt.tick_params(axis='y', labelsize='medium')\n",
    "            start, end = ax.get_xlim()\n",
    "            if (end-start)>1000:\n",
    "                majorLocator = MultipleLocator(400)\n",
    "            else:\n",
    "                majorLocator = MultipleLocator(200)\n",
    "            ax.xaxis.set_major_locator(majorLocator)\n",
    "            ax.set_title(gal, fontsize='large')\n",
    "\n",
    "        fig.text(0.5, 0.09, 'FELO-HEL (km/s)', ha='center',\n",
    "                    fontsize='xx-large')\n",
    "        fig.text(0.1, 0.5, 'Flux (Jy)', va='center', rotation='vertical', \n",
    "                    fontsize='xx-large')\n",
    "        pdf.savefig(bbox_inches = 'tight', pad_inches=0.1)\n",
    "        if showplot:\n",
    "            plt.show()\n",
    "        else:\n",
    "            print('Done with page',num+1)\n",
    "        plt.close()"
   ]
  },
  {
   "cell_type": "code",
   "execution_count": null,
   "metadata": {
    "scrolled": false
   },
   "outputs": [],
   "source": []
  }
 ],
 "metadata": {
  "kernelspec": {
   "display_name": "Python 3",
   "language": "python",
   "name": "python3"
  },
  "language_info": {
   "codemirror_mode": {
    "name": "ipython",
    "version": 3
   },
   "file_extension": ".py",
   "mimetype": "text/x-python",
   "name": "python",
   "nbconvert_exporter": "python",
   "pygments_lexer": "ipython3",
   "version": "3.6.9"
  }
 },
 "nbformat": 4,
 "nbformat_minor": 2
}
