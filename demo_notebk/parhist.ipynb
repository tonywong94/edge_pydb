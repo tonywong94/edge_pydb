{
 "cells": [
  {
   "cell_type": "code",
   "execution_count": 2,
   "metadata": {},
   "outputs": [],
   "source": [
    "#!/usr/bin/env python\n",
    "\n",
    "import numpy as np\n",
    "import matplotlib.pyplot as plt\n",
    "import matplotlib.ticker as ticker\n",
    "from astropy.io import ascii\n",
    "from astropy.table import Table, join\n",
    "\n",
    "params = {'mathtext.default': 'regular' }          \n",
    "plt.rcParams.update(params)"
   ]
  },
  {
   "cell_type": "code",
   "execution_count": 4,
   "metadata": {},
   "outputs": [],
   "source": [
    "dbdir = '/home/jovyan/carmaedge/edge-sql-base/global_values/'\n",
    "data = Table.read(dbdir+'obs/edge_coobs_de20.csv', format='ascii.csv')\n",
    "t2 = Table([data['Name'], data['coRMS_mJybm']])\n",
    "# db3 = Table.read(dbdir+'derived/edge_rfpars.csv', format='ascii.ecsv')\n",
    "# db3.rename_column('rfName', 'Name')\n",
    "# db = join(db1, t2, keys='Name')\n",
    "db1 = Table.read(dbdir+'external/DETableFinal.csv', format='ascii.csv')\n",
    "db = join(db1, t2, keys='Name')"
   ]
  },
  {
   "cell_type": "code",
   "execution_count": 14,
   "metadata": {},
   "outputs": [
    {
     "name": "stdout",
     "output_type": "stream",
     "text": [
      "('ARP220',  15.5825867,  23.5026682,  0.22,  9.3, 'Sm',  1.10662378,  1.54525444,  96.46,  56.98,  5420.,  147.44,  175.83, '0', '0', '0',  13.948,  nan,  8.283,  14.244,  5612.6,  34.553,  81.39542591,  9.496,  15.01,  9.02,  14.278,  4.559,  11.261,  0.576,  6.802,  374.8,  14.96,  466.56,  3.36,  455.96,  5.15,  457.04,  10.34,  1600.,  900.,  4.48000026,  3.87000013,  71.80000305, -16.61300087,  0.0188555,  0.420428,  0.414849,  0.261436,  0.192362,  0.139517,  10.9099,  0.0872049,  1.57499,  0.180915,  nan,  nan,  5.3402,  0.700156,  0.401422,  1.76844,  15.4727663,  14.11019518,  13.42762456,  13.10010398,  14.3881919,  13.74703758,  13.3581267,  22.57252232,  22.57252232,  0.55050123,  12.60185186,  19.6445391,  0.41902297,  41.53416839,  0.00725311,  nan,  0.01793838,  0.01800146,  8.95270263,  0.40709788,  3.09833195,  4.88371559,  42.67841756,  11.1161373,  77.97227561,   5.24661000e+09,  59259600.,   3.18025000e+43,   1.99364000e+43,   9.27533000e+43,   4.83120000e+44,  101.45519809,  5247.,  0.,  0.,  48.2,  18.2,  337.7,  2.,  29.7,  2.,  0.,  0.,  1.59,  0.69,  1.81,  1.25,  991.09,  3.48,  2.55,  0.2,  2314.26,  1.27,  1.34,  0.23,  3.23,  0.07,  1.24,  0.79,  4.,  7.,  7.9,  41.8,  3472.,  13.03126448,  21.48122504,  6.2)\n"
     ]
    }
   ],
   "source": [
    "print(np.array(db[0]))"
   ]
  },
  {
   "cell_type": "code",
   "execution_count": 15,
   "metadata": {},
   "outputs": [
    {
     "name": "stdout",
     "output_type": "stream",
     "text": [
      "('ARP220', 15.5825867, 23.5026682, 0.22, 9.3, 'Sm', 1.10662378, 1.54525444, 96.46, 56.98, 5420.0, 147.44, 175.83, --, --, --, 13.948, nan, 8.283, 14.244, 5612.6, 34.553, 81.39542591, 9.496, 15.01, 9.02, 14.278, 4.559, 11.261, 0.576, 6.802, 374.8, 14.96, 466.56, 3.36, 455.96, 5.15, 457.04, 10.34, 1600.0, 900.0, 4.48000026, 3.87000013, 71.80000305, -16.61300087, 0.0188555, 0.420428, 0.414849, 0.261436, 0.192362, 0.139517, 10.9099, 0.0872049, 1.57499, 0.180915, nan, nan, 5.3402, 0.700156, 0.401422, 1.76844, 15.4727663, 14.11019518, 13.42762456, 13.10010398, 14.3881919, 13.74703758, 13.3581267, 22.57252232, 22.57252232, 0.55050123, 12.60185186, 19.6445391, 0.41902297, 41.53416839, 0.00725311, nan, 0.01793838, 0.01800146, 8.95270263, 0.40709788, 3.09833195, 4.88371559, 42.67841756, 11.1161373, 77.97227561, 5246610000.0, 59259600.0, 3.18025e+43, 1.99364e+43, 9.27533e+43, 4.8312e+44, 101.45519809, 5247.0, 0.0, 0.0, 48.2, 18.2, 337.7, 2.0, 29.7, 2.0, 0.0, 0.0, 1.59, 0.69, 1.81, 1.25, 991.09, 3.48, 2.55, 0.2, 2314.26, 1.27, 1.34, 0.23, 3.23, 0.07, 1.24, 0.79, 4.0, 7.0, 7.9, 41.8, 3472.0, 13.03126448, 21.48122504, 6.2)\n"
     ]
    }
   ],
   "source": [
    "print(db[0].as_void())"
   ]
  },
  {
   "cell_type": "code",
   "execution_count": null,
   "metadata": {},
   "outputs": [],
   "source": [
    "fig=plt.figure()\n",
    "fig.set_size_inches(8, 2)\n",
    "\n",
    "ax1=fig.add_subplot(1,4,1)\n",
    "plt.hist(db['caDistMpc'],bins=np.arange(20, 140, 10))\n",
    "#n,bins,patches=plt.hist(db['caDistMpc'],11,histtype='bar')\n",
    "plt.xlabel('distance [Mpc]', labelpad=3, size='small')\n",
    "plt.tick_params(axis='x', labelsize='xx-small')\n",
    "plt.tick_params(axis='y', labelsize='xx-small')\n",
    "ax1.set_ylim([0,20])\n",
    "ax1.text(0.55,0.88,'$\\mu$ = %3.1f' % np.mean(db['caDistMpc']),\n",
    "    size='x-small', transform=ax1.transAxes)\n",
    "\n",
    "ax2=plt.subplot(1,4,2)\n",
    "beam=np.sqrt(db['coBmaj']*db['coBmin'])\n",
    "bmkpc=beam*db['caDistMpc']/206.265\n",
    "#n,bins,patches=plt.hist(bmkpc,14,histtype='bar')\n",
    "plt.hist(bmkpc,bins=np.arange(0, 4, 0.25))\n",
    "plt.xlabel('beam [kpc]', labelpad=3, size='small')\n",
    "plt.tick_params(axis='x', labelsize='xx-small')\n",
    "plt.tick_params(axis='y', labelsize='xx-small')\n",
    "tick_spacing = 1\n",
    "ax2.xaxis.set_major_locator(ticker.MultipleLocator(tick_spacing))\n",
    "ax2.text(0.6,0.88,'$\\mu$ = %3.1f' % np.mean(bmkpc),\n",
    "    size='x-small', transform=ax2.transAxes)\n",
    "\n",
    "ax3=plt.subplot(1,4,3)\n",
    "#print(db['coSmooth'])\n",
    "mgas = 1.05e4*db['caDistMpc']**2*db['coSmooth']\n",
    "mgas = mgas[~np.isnan(mgas)]\n",
    "plt.hist(mgas,bins=np.logspace(7,11,17))\n",
    "plt.xlabel('$M_{mol}$ [$M_\\odot$]', labelpad=3, size='small')\n",
    "plt.gca().set_xscale(\"log\")\n",
    "plt.tick_params(axis='x', labelsize='xx-small')\n",
    "plt.tick_params(axis='y', labelsize='xx-small')\n",
    "#ax3.text(0.6,0.88,'$\\mu$ = %4.1f' % np.mean(mgas),\n",
    "#    size='x-small', transform=ax3.transAxes)\n",
    "\n",
    "ax4=plt.subplot(1,4,4)\n",
    "msens = 1.05e4*db['caDistMpc']**2*db['coRMS20_mJybm']*20./1000.\n",
    "n,bins,patches=plt.hist(msens,bins=np.logspace(5,8,16),histtype='bar')\n",
    "plt.xlabel('$M_{sen}$ [$M_\\odot$]', labelpad=3, size='small')\n",
    "plt.gca().set_xscale(\"log\")\n",
    "#ax4.xaxis.set_major_formatter(ticker.FuncFormatter(lambda x,pos: \n",
    "#    ('{{:.{:1d}f}}'.format(int(np.maximum(-np.log10(x),0)))).format(x)))\n",
    "plt.tick_params(axis='x', labelsize='xx-small')\n",
    "plt.tick_params(axis='y', labelsize='xx-small')\n",
    "#ax4.text(0.6,0.88,'$\\mu$ = %4.1f' % np.mean(msens),\n",
    "#    size='x-small', transform=ax4.transAxes)\n",
    "\n",
    "plt.savefig('parhist.png')\n",
    "plt.savefig('parhist.pdf', bbox_inches='tight')\n",
    "plt.close()"
   ]
  }
 ],
 "metadata": {
  "kernelspec": {
   "display_name": "Python 3",
   "language": "python",
   "name": "python3"
  },
  "language_info": {
   "codemirror_mode": {
    "name": "ipython",
    "version": 3
   },
   "file_extension": ".py",
   "mimetype": "text/x-python",
   "name": "python",
   "nbconvert_exporter": "python",
   "pygments_lexer": "ipython3",
   "version": "3.6.5"
  }
 },
 "nbformat": 4,
 "nbformat_minor": 2
}
