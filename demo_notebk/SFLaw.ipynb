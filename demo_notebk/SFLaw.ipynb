{
 "cells": [
  {
   "cell_type": "code",
   "execution_count": 1,
   "metadata": {},
   "outputs": [],
   "source": [
    "import numpy as np\n",
    "from astropy.table import Table, join\n",
    "import matplotlib.pyplot as plt"
   ]
  },
  {
   "cell_type": "markdown",
   "metadata": {},
   "source": [
    "## Our x-axis will be the 7\" CO intensity from the smoothed mask.\n",
    "## Our y-axis will be the Halpha flux smoothed to 7\"."
   ]
  },
  {
   "cell_type": "code",
   "execution_count": 2,
   "metadata": {},
   "outputs": [],
   "source": [
    "hafile = '../img_califa/NGC4047.flux_elines.hdf5'\n",
    "cofile = '../img_comom/NGC4047.comom.smo7_smo.hdf5'"
   ]
  },
  {
   "cell_type": "code",
   "execution_count": 3,
   "metadata": {},
   "outputs": [
    {
     "name": "stdout",
     "output_type": "stream",
     "text": [
      "  Name   ix  iy   ra_off    dec_off    mom0  emom0  emom0max\n",
      "                   deg        deg     K.KM/S K.KM/S  K.KM/S \n",
      "------- --- --- ---------- ---------- ------ ------ --------\n",
      "NGC4047   2   2  0.0327726 -0.0216713    nan    nan      nan\n",
      "NGC4047   2   5  0.0327731  -0.020838    nan    nan      nan\n",
      "NGC4047   2   8  0.0327737 -0.0200047    nan    nan      nan\n",
      "NGC4047   2  11  0.0327742 -0.0191713    nan    nan      nan\n",
      "NGC4047   2  14  0.0327748  -0.018338    nan    nan      nan\n",
      "NGC4047   2  17  0.0327753 -0.0175047    nan    nan      nan\n",
      "NGC4047   2  20  0.0327758 -0.0166713    nan    nan      nan\n",
      "NGC4047   2  23  0.0327764  -0.015838    nan    nan      nan\n",
      "NGC4047   2  26  0.0327769 -0.0150047    nan    nan      nan\n",
      "NGC4047   2  29  0.0327775 -0.0141713    nan    nan      nan\n",
      "    ... ... ...        ...        ...    ...    ...      ...\n",
      "NGC4047 158 131 -0.0327959   0.014162    nan    nan      nan\n",
      "NGC4047 158 134 -0.0327964  0.0149953    nan    nan      nan\n",
      "NGC4047 158 137  -0.032797  0.0158287    nan    nan      nan\n",
      "NGC4047 158 140 -0.0327975   0.016662    nan    nan      nan\n",
      "NGC4047 158 143  -0.032798  0.0174953    nan    nan      nan\n",
      "NGC4047 158 146 -0.0327986  0.0183287    nan    nan      nan\n",
      "NGC4047 158 149 -0.0327991   0.019162    nan    nan      nan\n",
      "NGC4047 158 152 -0.0327997  0.0199953    nan    nan      nan\n",
      "NGC4047 158 155 -0.0328002  0.0208287    nan    nan      nan\n",
      "NGC4047 158 158 -0.0328007   0.021662    nan    nan      nan\n",
      "Length = 2809 rows\n"
     ]
    }
   ],
   "source": [
    "cotab=Table.read(cofile, path='data')\n",
    "print(cotab)"
   ]
  },
  {
   "cell_type": "code",
   "execution_count": 4,
   "metadata": {},
   "outputs": [
    {
     "name": "stdout",
     "output_type": "stream",
     "text": [
      "  Name   ix  iy ... e_EW_[NII]6548_sm e_EW_[SII]6717_sm e_EW_[SII]6731_sm\n",
      "                ...      Angstrom          Angstrom          Angstrom    \n",
      "------- --- --- ... ----------------- ----------------- -----------------\n",
      "NGC4047   2   2 ...               nan               nan               nan\n",
      "NGC4047   2   5 ...               nan               nan               nan\n",
      "NGC4047   2   8 ...               nan               nan               nan\n",
      "NGC4047   2  11 ...               nan               nan               nan\n",
      "NGC4047   2  14 ...               nan               nan               nan\n",
      "NGC4047   2  17 ...               nan               nan               nan\n",
      "NGC4047   2  20 ...               nan               nan               nan\n",
      "NGC4047   2  23 ...               nan               nan               nan\n",
      "NGC4047   2  26 ...               nan               nan               nan\n",
      "NGC4047   2  29 ...               nan               nan               nan\n",
      "    ... ... ... ...               ...               ...               ...\n",
      "NGC4047 158 131 ...               nan               nan               nan\n",
      "NGC4047 158 134 ...               nan               nan               nan\n",
      "NGC4047 158 137 ...               nan               nan               nan\n",
      "NGC4047 158 140 ...               nan               nan               nan\n",
      "NGC4047 158 143 ...               nan               nan               nan\n",
      "NGC4047 158 146 ...               nan               nan               nan\n",
      "NGC4047 158 149 ...               nan               nan               nan\n",
      "NGC4047 158 152 ...               nan               nan               nan\n",
      "NGC4047 158 155 ...               nan               nan               nan\n",
      "NGC4047 158 158 ...               nan               nan               nan\n",
      "Length = 2809 rows\n"
     ]
    }
   ],
   "source": [
    "hatab=Table.read(hafile, path='data')\n",
    "print(hatab)"
   ]
  },
  {
   "cell_type": "code",
   "execution_count": 5,
   "metadata": {},
   "outputs": [],
   "source": [
    "jointbl = join(cotab,hatab)"
   ]
  },
  {
   "cell_type": "code",
   "execution_count": 6,
   "metadata": {},
   "outputs": [
    {
     "name": "stdout",
     "output_type": "stream",
     "text": [
      "['Name', 'ix', 'iy', 'ra_off', 'dec_off', 'mom0', 'emom0', 'emom0max', 'flux_[OII]3727_rg', 'flux_[OIII]5007_rg', 'flux_[OIII]4959_rg', 'flux_Hbeta_rg', 'flux_Halpha_rg', 'flux_[NII]6583_rg', 'flux_[NII]6548_rg', 'flux_[SII]6717_rg', 'flux_[SII]6731_rg', 'vel_[OII]3727_rg', 'vel_[OIII]5007_rg', 'vel_[OIII]4959_rg', 'vel_Hbeta_rg', 'vel_Halpha_rg', 'vel_[NII]6583_rg', 'vel_[NII]6548_rg', 'vel_[SII]6717_rg', 'vel_[SII]6731_rg', 'disp_[OII]3727_rg', 'disp_[OIII]5007_rg', 'disp_[OIII]4959_rg', 'disp_Hbeta_rg', 'disp_Halpha_rg', 'disp_[NII]6583_rg', 'disp_[NII]6548_rg', 'disp_[SII]6717_rg', 'disp_[SII]6731_rg', 'EW_[OII]3727_rg', 'EW_[OIII]5007_rg', 'EW_[OIII]4959_rg', 'EW_Hbeta_rg', 'EW_Halpha_rg', 'EW_[NII]6583_rg', 'EW_[NII]6548_rg', 'EW_[SII]6717_rg', 'EW_[SII]6731_rg', 'e_flux_[OII]3727_rg', 'e_flux_[OIII]5007_rg', 'e_flux_[OIII]4959_rg', 'e_flux_Hbeta_rg', 'e_flux_Halpha_rg', 'e_flux_[NII]6583_rg', 'e_flux_[NII]6548_rg', 'e_flux_[SII]6717_rg', 'e_flux_[SII]6731_rg', 'e_vel_[OII]3727_rg', 'e_vel_[OIII]5007_rg', 'e_vel_[OIII]4959_rg', 'e_vel_Hbeta_rg', 'e_vel_Halpha_rg', 'e_vel_[NII]6583_rg', 'e_vel_[NII]6548_rg', 'e_vel_[SII]6717_rg', 'e_vel_[SII]6731_rg', 'e_disp_[OII]3727_rg', 'e_disp_[OIII]5007_rg', 'e_disp_[OIII]4959_rg', 'e_disp_Hbeta_rg', 'e_disp_Halpha_rg', 'e_disp_[NII]6583_rg', 'e_disp_[NII]6548_rg', 'e_disp_[SII]6717_rg', 'e_disp_[SII]6731_rg', 'e_EW_[OII]3727_rg', 'e_EW_[OIII]5007_rg', 'e_EW_[OIII]4959_rg', 'e_EW_Hbeta_rg', 'e_EW_Halpha_rg', 'e_EW_[NII]6583_rg', 'e_EW_[NII]6548_rg', 'e_EW_[SII]6717_rg', 'e_EW_[SII]6731_rg', 'flux_[OII]3727_sm', 'flux_[OIII]5007_sm', 'flux_[OIII]4959_sm', 'flux_Hbeta_sm', 'flux_Halpha_sm', 'flux_[NII]6583_sm', 'flux_[NII]6548_sm', 'flux_[SII]6717_sm', 'flux_[SII]6731_sm', 'vel_[OII]3727_sm', 'vel_[OIII]5007_sm', 'vel_[OIII]4959_sm', 'vel_Hbeta_sm', 'vel_Halpha_sm', 'vel_[NII]6583_sm', 'vel_[NII]6548_sm', 'vel_[SII]6717_sm', 'vel_[SII]6731_sm', 'disp_[OII]3727_sm', 'disp_[OIII]5007_sm', 'disp_[OIII]4959_sm', 'disp_Hbeta_sm', 'disp_Halpha_sm', 'disp_[NII]6583_sm', 'disp_[NII]6548_sm', 'disp_[SII]6717_sm', 'disp_[SII]6731_sm', 'EW_[OII]3727_sm', 'EW_[OIII]5007_sm', 'EW_[OIII]4959_sm', 'EW_Hbeta_sm', 'EW_Halpha_sm', 'EW_[NII]6583_sm', 'EW_[NII]6548_sm', 'EW_[SII]6717_sm', 'EW_[SII]6731_sm', 'e_flux_[OII]3727_sm', 'e_flux_[OIII]5007_sm', 'e_flux_[OIII]4959_sm', 'e_flux_Hbeta_sm', 'e_flux_Halpha_sm', 'e_flux_[NII]6583_sm', 'e_flux_[NII]6548_sm', 'e_flux_[SII]6717_sm', 'e_flux_[SII]6731_sm', 'e_vel_[OII]3727_sm', 'e_vel_[OIII]5007_sm', 'e_vel_[OIII]4959_sm', 'e_vel_Hbeta_sm', 'e_vel_Halpha_sm', 'e_vel_[NII]6583_sm', 'e_vel_[NII]6548_sm', 'e_vel_[SII]6717_sm', 'e_vel_[SII]6731_sm', 'e_disp_[OII]3727_sm', 'e_disp_[OIII]5007_sm', 'e_disp_[OIII]4959_sm', 'e_disp_Hbeta_sm', 'e_disp_Halpha_sm', 'e_disp_[NII]6583_sm', 'e_disp_[NII]6548_sm', 'e_disp_[SII]6717_sm', 'e_disp_[SII]6731_sm', 'e_EW_[OII]3727_sm', 'e_EW_[OIII]5007_sm', 'e_EW_[OIII]4959_sm', 'e_EW_Hbeta_sm', 'e_EW_Halpha_sm', 'e_EW_[NII]6583_sm', 'e_EW_[NII]6548_sm', 'e_EW_[SII]6717_sm', 'e_EW_[SII]6731_sm']\n"
     ]
    }
   ],
   "source": [
    "print(jointbl.colnames)"
   ]
  },
  {
   "cell_type": "code",
   "execution_count": 7,
   "metadata": {},
   "outputs": [
    {
     "data": {
      "text/plain": [
       "Text(0,0.5,'H$\\\\alpha$ intensity [1e-16 erg / (cm2 s)]')"
      ]
     },
     "execution_count": 7,
     "metadata": {},
     "output_type": "execute_result"
    },
    {
     "data": {
      "image/png": "[encoded data removed]",
      "text/plain": [
       "<Figure size 432x288 with 1 Axes>"
      ]
     },
     "metadata": {},
     "output_type": "display_data"
    }
   ],
   "source": [
    "plt.loglog(jointbl['mom0'],jointbl['flux_Halpha_sm'],ls='None',marker='o')\n",
    "plt.xlabel('CO intensity ['+str(jointbl['mom0'].unit)+']',fontsize=14)\n",
    "plt.ylabel(r'H$\\alpha$ intensity ['+str(jointbl['flux_Halpha_sm'].unit)+']',fontsize=14)"
   ]
  },
  {
   "cell_type": "code",
   "execution_count": null,
   "metadata": {},
   "outputs": [],
   "source": []
  }
 ],
 "metadata": {
  "kernelspec": {
   "display_name": "Python 3",
   "language": "python",
   "name": "python3"
  },
  "language_info": {
   "codemirror_mode": {
    "name": "ipython",
    "version": 3
   },
   "file_extension": ".py",
   "mimetype": "text/x-python",
   "name": "python",
   "nbconvert_exporter": "python",
   "pygments_lexer": "ipython3",
   "version": "3.6.5"
  }
 },
 "nbformat": 4,
 "nbformat_minor": 2
}
