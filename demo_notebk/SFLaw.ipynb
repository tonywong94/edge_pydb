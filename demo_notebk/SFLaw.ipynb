{
 "cells": [
  {
   "cell_type": "code",
   "execution_count": 1,
   "metadata": {},
   "outputs": [],
   "source": [
    "import numpy as np\n",
    "from astropy.table import Table, join\n",
    "import matplotlib.pyplot as plt"
   ]
  },
  {
   "cell_type": "markdown",
   "metadata": {},
   "source": [
    "## Our x-axis will be the 7\" CO intensity from the smoothed mask.  Our y-axis will be the Halpha flux from flux_elines smoothed to 7\"."
   ]
  },
  {
   "cell_type": "code",
   "execution_count": 2,
   "metadata": {},
   "outputs": [],
   "source": [
    "hafile = '../img_califa/NGC4047.pipe3d.hdf5'\n",
    "cofile = '../img_comom/NGC4047.comom_smo7.hdf5'"
   ]
  },
  {
   "cell_type": "code",
   "execution_count": 3,
   "metadata": {},
   "outputs": [
    {
     "name": "stdout",
     "output_type": "stream",
     "text": [
      "  Name   ix  iy    ra_off      dec_off    emom0max   mom0    emom0  \n",
      "                    deg          deg      K km / s K km / s K km / s\n",
      "------- --- --- ------------ ------------ -------- -------- --------\n",
      "NGC4047   2   2  0.032772586  -0.02167132      nan      nan      nan\n",
      "NGC4047   2   5   0.03277313 -0.020837985      nan      nan      nan\n",
      "NGC4047   2   8   0.03277367 -0.020004652      nan      nan      nan\n",
      "NGC4047   2  11   0.03277421 -0.019171318      nan      nan      nan\n",
      "NGC4047   2  14   0.03277475 -0.018337986      nan      nan      nan\n",
      "NGC4047   2  17   0.03277529 -0.017504651      nan      nan      nan\n",
      "NGC4047   2  20  0.032775834 -0.016671319      nan      nan      nan\n",
      "NGC4047   2  23  0.032776374 -0.015837986      nan      nan      nan\n",
      "NGC4047   2  26  0.032776915 -0.015004652      nan      nan      nan\n",
      "NGC4047   2  29  0.032777455 -0.014171319      nan      nan      nan\n",
      "    ... ... ...          ...          ...      ...      ...      ...\n",
      "NGC4047 158 131  -0.03279587  0.014162013      nan      nan      nan\n",
      "NGC4047 158 134 -0.032796413  0.014995347      nan      nan      nan\n",
      "NGC4047 158 137 -0.032796953   0.01582868      nan      nan      nan\n",
      "NGC4047 158 140 -0.032797497  0.016662013      nan      nan      nan\n",
      "NGC4047 158 143 -0.032798037  0.017495347      nan      nan      nan\n",
      "NGC4047 158 146  -0.03279858   0.01832868      nan      nan      nan\n",
      "NGC4047 158 149  -0.03279912  0.019162014      nan      nan      nan\n",
      "NGC4047 158 152 -0.032799665  0.019995347      nan      nan      nan\n",
      "NGC4047 158 155  -0.03280021   0.02082868      nan      nan      nan\n",
      "NGC4047 158 158  -0.03280075  0.021662014      nan      nan      nan\n",
      "Length = 2809 rows\n"
     ]
    }
   ],
   "source": [
    "cotab=Table.read(cofile, path='smo')\n",
    "print(cotab)"
   ]
  },
  {
   "cell_type": "code",
   "execution_count": 4,
   "metadata": {},
   "outputs": [
    {
     "name": "stdout",
     "output_type": "stream",
     "text": [
      "  Name   ix  iy    ra_off    ... e_EW_[NII]6548 e_EW_[SII]6717 e_EW_[SII]6731\n",
      "                    deg      ...    Angstrom       Angstrom       Angstrom   \n",
      "------- --- --- ------------ ... -------------- -------------- --------------\n",
      "NGC4047   2   2  0.032772586 ...            nan            nan            nan\n",
      "NGC4047   2   5   0.03277313 ...            nan            nan            nan\n",
      "NGC4047   2   8   0.03277367 ...            nan            nan            nan\n",
      "NGC4047   2  11   0.03277421 ...            nan            nan            nan\n",
      "NGC4047   2  14   0.03277475 ...            nan            nan            nan\n",
      "NGC4047   2  17   0.03277529 ...            nan            nan            nan\n",
      "NGC4047   2  20  0.032775834 ...            nan            nan            nan\n",
      "NGC4047   2  23  0.032776374 ...            nan            nan            nan\n",
      "NGC4047   2  26  0.032776915 ...            nan            nan            nan\n",
      "NGC4047   2  29  0.032777455 ...            nan            nan            nan\n",
      "    ... ... ...          ... ...            ...            ...            ...\n",
      "NGC4047 158 131  -0.03279587 ...            nan            nan            nan\n",
      "NGC4047 158 134 -0.032796413 ...            nan            nan            nan\n",
      "NGC4047 158 137 -0.032796953 ...            nan            nan            nan\n",
      "NGC4047 158 140 -0.032797497 ...            nan            nan            nan\n",
      "NGC4047 158 143 -0.032798037 ...            nan            nan            nan\n",
      "NGC4047 158 146  -0.03279858 ...            nan            nan            nan\n",
      "NGC4047 158 149  -0.03279912 ...            nan            nan            nan\n",
      "NGC4047 158 152 -0.032799665 ...            nan            nan            nan\n",
      "NGC4047 158 155  -0.03280021 ...            nan            nan            nan\n",
      "NGC4047 158 158  -0.03280075 ...            nan            nan            nan\n",
      "Length = 2809 rows\n"
     ]
    }
   ],
   "source": [
    "hatab=Table.read(hafile, path='flux_elines_sm')\n",
    "print(hatab)"
   ]
  },
  {
   "cell_type": "code",
   "execution_count": 5,
   "metadata": {},
   "outputs": [],
   "source": [
    "jointbl = join(cotab,hatab)"
   ]
  },
  {
   "cell_type": "code",
   "execution_count": 6,
   "metadata": {},
   "outputs": [
    {
     "name": "stdout",
     "output_type": "stream",
     "text": [
      "['Name', 'ix', 'iy', 'ra_off', 'dec_off', 'emom0max', 'mom0', 'emom0', 'flux_[OII]3727', 'flux_[OIII]5007', 'flux_[OIII]4959', 'flux_Hbeta', 'flux_Halpha', 'flux_[NII]6583', 'flux_[NII]6548', 'flux_[SII]6717', 'flux_[SII]6731', 'vel_[OII]3727', 'vel_[OIII]5007', 'vel_[OIII]4959', 'vel_Hbeta', 'vel_Halpha', 'vel_[NII]6583', 'vel_[NII]6548', 'vel_[SII]6717', 'vel_[SII]6731', 'disp_[OII]3727', 'disp_[OIII]5007', 'disp_[OIII]4959', 'disp_Hbeta', 'disp_Halpha', 'disp_[NII]6583', 'disp_[NII]6548', 'disp_[SII]6717', 'disp_[SII]6731', 'EW_[OII]3727', 'EW_[OIII]5007', 'EW_[OIII]4959', 'EW_Hbeta', 'EW_Halpha', 'EW_[NII]6583', 'EW_[NII]6548', 'EW_[SII]6717', 'EW_[SII]6731', 'e_flux_[OII]3727', 'e_flux_[OIII]5007', 'e_flux_[OIII]4959', 'e_flux_Hbeta', 'e_flux_Halpha', 'e_flux_[NII]6583', 'e_flux_[NII]6548', 'e_flux_[SII]6717', 'e_flux_[SII]6731', 'e_vel_[OII]3727', 'e_vel_[OIII]5007', 'e_vel_[OIII]4959', 'e_vel_Hbeta', 'e_vel_Halpha', 'e_vel_[NII]6583', 'e_vel_[NII]6548', 'e_vel_[SII]6717', 'e_vel_[SII]6731', 'e_disp_[OII]3727', 'e_disp_[OIII]5007', 'e_disp_[OIII]4959', 'e_disp_Hbeta', 'e_disp_Halpha', 'e_disp_[NII]6583', 'e_disp_[NII]6548', 'e_disp_[SII]6717', 'e_disp_[SII]6731', 'e_EW_[OII]3727', 'e_EW_[OIII]5007', 'e_EW_[OIII]4959', 'e_EW_Hbeta', 'e_EW_Halpha', 'e_EW_[NII]6583', 'e_EW_[NII]6548', 'e_EW_[SII]6717', 'e_EW_[SII]6731']\n"
     ]
    }
   ],
   "source": [
    "print(jointbl.colnames)"
   ]
  },
  {
   "cell_type": "code",
   "execution_count": 8,
   "metadata": {},
   "outputs": [
    {
     "data": {
      "image/png": "[encoded data removed]",
      "text/plain": [
       "<Figure size 432x288 with 1 Axes>"
      ]
     },
     "metadata": {
      "needs_background": "light"
     },
     "output_type": "display_data"
    }
   ],
   "source": [
    "plt.loglog(jointbl['mom0'],jointbl['flux_Halpha'],ls='None',marker='o')\n",
    "plt.xlabel('CO intensity ['+str(jointbl['mom0'].unit)+']',fontsize=14)\n",
    "plt.ylabel(r'H$\\alpha$ intensity ['+str(jointbl['flux_Halpha'].unit)+']',fontsize=14)\n",
    "plt.gca().set_aspect('equal')"
   ]
  },
  {
   "cell_type": "code",
   "execution_count": null,
   "metadata": {},
   "outputs": [],
   "source": []
  }
 ],
 "metadata": {
  "kernelspec": {
   "display_name": "Python 3",
   "language": "python",
   "name": "python3"
  },
  "language_info": {
   "codemirror_mode": {
    "name": "ipython",
    "version": 3
   },
   "file_extension": ".py",
   "mimetype": "text/x-python",
   "name": "python",
   "nbconvert_exporter": "python",
   "pygments_lexer": "ipython3",
   "version": "3.6.8"
  }
 },
 "nbformat": 4,
 "nbformat_minor": 2
}
