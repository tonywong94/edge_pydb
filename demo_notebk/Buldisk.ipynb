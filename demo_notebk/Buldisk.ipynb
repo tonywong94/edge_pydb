{
 "cells": [
  {
   "cell_type": "code",
   "execution_count": 1,
   "metadata": {},
   "outputs": [],
   "source": [
    "import numpy as np\n",
    "import matplotlib.pyplot as plt\n",
    "from astropy.table import Table, join, unique\n",
    "from astropy.io import ascii\n",
    "\n",
    "params = {'mathtext.default': 'regular' }          \n",
    "plt.rcParams.update(params)"
   ]
  },
  {
   "cell_type": "markdown",
   "metadata": {},
   "source": [
    "## Bulge-to-disk ratio from Mendez-Abreu et al. (2017 A&A 598, A32)."
   ]
  },
  {
   "cell_type": "code",
   "execution_count": 2,
   "metadata": {},
   "outputs": [
    {
     "name": "stdout",
     "output_type": "stream",
     "text": [
      "Downloading http://cdsarc.u-strasbg.fr/ftp/J/A+A/598/A32/table1.dat [Done]\n",
      "Downloading http://cdsarc.u-strasbg.fr/ftp/J/A+A/598/A32/ReadMe [Done]\n"
     ]
    }
   ],
   "source": [
    "bttab = ascii.read(\"http://cdsarc.u-strasbg.fr/ftp/J/A+A/598/A32/table1.dat\", \n",
    "                   readme=\"http://cdsarc.u-strasbg.fr/ftp/J/A+A/598/A32/ReadMe\", format='cds')\n",
    "#bttab.show_in_notebook()"
   ]
  },
  {
   "cell_type": "code",
   "execution_count": 3,
   "metadata": {
    "scrolled": false
   },
   "outputs": [],
   "source": [
    "califa_id = ascii.read('../dat_glob/external/build/CALIFAid.csv', format='csv')\n",
    "califa_id.rename_column('Name', 'EDGEname')\n",
    "califa_id.rename_column('ID', 'CALIFA')\n",
    "keep = Table([bttab['Galaxy'], bttab['CALIFA'], bttab['BTr'], bttab['DTr']])\n",
    "keep.sort(['CALIFA','BTr'])\n",
    "# For galaxies with multiple fits choose the highest bulge fraction\n",
    "uniqid = unique(keep, keys='CALIFA')\n",
    "joint = join(uniqid,califa_id,keys='CALIFA',join_type='left')\n",
    "#joint.show_in_notebook()"
   ]
  },
  {
   "cell_type": "code",
   "execution_count": 4,
   "metadata": {},
   "outputs": [],
   "source": [
    "joint.write('buldisk.csv',format='ascii.ecsv',delimiter=',',overwrite=True)"
   ]
  },
  {
   "cell_type": "code",
   "execution_count": 5,
   "metadata": {},
   "outputs": [
    {
     "name": "stdout",
     "output_type": "stream",
     "text": [
      "EDGEname\n",
      "--------\n",
      " NGC7819\n",
      " NGC0447\n",
      " NGC0477\n",
      "  IC1683\n",
      " NGC0496\n",
      " NGC0528\n",
      " NGC0551\n",
      " NGC1167\n",
      "UGC03253\n",
      " NGC2253\n",
      "     ...\n",
      " NGC6063\n",
      "  IC1199\n",
      " NGC6125\n",
      " NGC6146\n",
      " NGC6155\n",
      " NGC6186\n",
      " NGC6301\n",
      " NGC6314\n",
      " NGC6394\n",
      " NGC6478\n",
      " NGC7738\n",
      "Length = 74 rows\n"
     ]
    }
   ],
   "source": [
    "notedge = joint['EDGEname'].mask\n",
    "print(joint['EDGEname'][~notedge])"
   ]
  },
  {
   "cell_type": "code",
   "execution_count": 6,
   "metadata": {},
   "outputs": [
    {
     "data": {
      "image/png": "[encoded data removed]",
      "text/plain": [
       "<Figure size 432x360 with 1 Axes>"
      ]
     },
     "metadata": {},
     "output_type": "display_data"
    }
   ],
   "source": [
    "plt.figure(figsize=(6, 5))\n",
    "hbins = np.arange(0, 1.1, 0.05)\n",
    "plt.hist(joint['BTr'], bins=hbins, ec='black', align='left', label='CALIFA')\n",
    "plt.hist(joint['BTr'][~notedge], bins=hbins, ec='black', align='left', label='EDGE')\n",
    "plt.gca().set_yscale(\"log\")\n",
    "plt.gca().set_ylim(0.8,100)\n",
    "plt.xlabel('Bulge fraction', labelpad=2, fontsize='large')\n",
    "plt.ylabel('Number of galaxies', labelpad=2, fontsize='large')\n",
    "plt.legend()\n",
    "plt.show()"
   ]
  },
  {
   "cell_type": "code",
   "execution_count": null,
   "metadata": {},
   "outputs": [],
   "source": []
  }
 ],
 "metadata": {
  "kernelspec": {
   "display_name": "Python 3",
   "language": "python",
   "name": "python3"
  },
  "language_info": {
   "codemirror_mode": {
    "name": "ipython",
    "version": 3
   },
   "file_extension": ".py",
   "mimetype": "text/x-python",
   "name": "python",
   "nbconvert_exporter": "python",
   "pygments_lexer": "ipython3",
   "version": "3.6.5"
  }
 },
 "nbformat": 4,
 "nbformat_minor": 2
}
